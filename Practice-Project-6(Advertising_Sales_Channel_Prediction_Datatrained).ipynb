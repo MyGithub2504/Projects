{
 "cells": [
  {
   "cell_type": "code",
   "execution_count": 1,
   "metadata": {},
   "outputs": [],
   "source": [
    "import pandas as pd\n",
    "import numpy as np\n",
    "import matplotlib.pyplot as plt\n",
    "import seaborn as sns\n",
    "import warnings\n",
    "warnings.filterwarnings('ignore')"
   ]
  },
  {
   "cell_type": "code",
   "execution_count": 2,
   "metadata": {},
   "outputs": [
    {
     "data": {
      "text/html": [
       "<div>\n",
       "<style scoped>\n",
       "    .dataframe tbody tr th:only-of-type {\n",
       "        vertical-align: middle;\n",
       "    }\n",
       "\n",
       "    .dataframe tbody tr th {\n",
       "        vertical-align: top;\n",
       "    }\n",
       "\n",
       "    .dataframe thead th {\n",
       "        text-align: right;\n",
       "    }\n",
       "</style>\n",
       "<table border=\"1\" class=\"dataframe\">\n",
       "  <thead>\n",
       "    <tr style=\"text-align: right;\">\n",
       "      <th></th>\n",
       "      <th>Unnamed: 0</th>\n",
       "      <th>TV</th>\n",
       "      <th>radio</th>\n",
       "      <th>newspaper</th>\n",
       "      <th>sales</th>\n",
       "    </tr>\n",
       "  </thead>\n",
       "  <tbody>\n",
       "    <tr>\n",
       "      <th>0</th>\n",
       "      <td>1</td>\n",
       "      <td>230.1</td>\n",
       "      <td>37.8</td>\n",
       "      <td>69.2</td>\n",
       "      <td>22.1</td>\n",
       "    </tr>\n",
       "    <tr>\n",
       "      <th>1</th>\n",
       "      <td>2</td>\n",
       "      <td>44.5</td>\n",
       "      <td>39.3</td>\n",
       "      <td>45.1</td>\n",
       "      <td>10.4</td>\n",
       "    </tr>\n",
       "    <tr>\n",
       "      <th>2</th>\n",
       "      <td>3</td>\n",
       "      <td>17.2</td>\n",
       "      <td>45.9</td>\n",
       "      <td>69.3</td>\n",
       "      <td>9.3</td>\n",
       "    </tr>\n",
       "    <tr>\n",
       "      <th>3</th>\n",
       "      <td>4</td>\n",
       "      <td>151.5</td>\n",
       "      <td>41.3</td>\n",
       "      <td>58.5</td>\n",
       "      <td>18.5</td>\n",
       "    </tr>\n",
       "    <tr>\n",
       "      <th>4</th>\n",
       "      <td>5</td>\n",
       "      <td>180.8</td>\n",
       "      <td>10.8</td>\n",
       "      <td>58.4</td>\n",
       "      <td>12.9</td>\n",
       "    </tr>\n",
       "    <tr>\n",
       "      <th>...</th>\n",
       "      <td>...</td>\n",
       "      <td>...</td>\n",
       "      <td>...</td>\n",
       "      <td>...</td>\n",
       "      <td>...</td>\n",
       "    </tr>\n",
       "    <tr>\n",
       "      <th>195</th>\n",
       "      <td>196</td>\n",
       "      <td>38.2</td>\n",
       "      <td>3.7</td>\n",
       "      <td>13.8</td>\n",
       "      <td>7.6</td>\n",
       "    </tr>\n",
       "    <tr>\n",
       "      <th>196</th>\n",
       "      <td>197</td>\n",
       "      <td>94.2</td>\n",
       "      <td>4.9</td>\n",
       "      <td>8.1</td>\n",
       "      <td>9.7</td>\n",
       "    </tr>\n",
       "    <tr>\n",
       "      <th>197</th>\n",
       "      <td>198</td>\n",
       "      <td>177.0</td>\n",
       "      <td>9.3</td>\n",
       "      <td>6.4</td>\n",
       "      <td>12.8</td>\n",
       "    </tr>\n",
       "    <tr>\n",
       "      <th>198</th>\n",
       "      <td>199</td>\n",
       "      <td>283.6</td>\n",
       "      <td>42.0</td>\n",
       "      <td>66.2</td>\n",
       "      <td>25.5</td>\n",
       "    </tr>\n",
       "    <tr>\n",
       "      <th>199</th>\n",
       "      <td>200</td>\n",
       "      <td>232.1</td>\n",
       "      <td>8.6</td>\n",
       "      <td>8.7</td>\n",
       "      <td>13.4</td>\n",
       "    </tr>\n",
       "  </tbody>\n",
       "</table>\n",
       "<p>200 rows × 5 columns</p>\n",
       "</div>"
      ],
      "text/plain": [
       "     Unnamed: 0     TV  radio  newspaper  sales\n",
       "0             1  230.1   37.8       69.2   22.1\n",
       "1             2   44.5   39.3       45.1   10.4\n",
       "2             3   17.2   45.9       69.3    9.3\n",
       "3             4  151.5   41.3       58.5   18.5\n",
       "4             5  180.8   10.8       58.4   12.9\n",
       "..          ...    ...    ...        ...    ...\n",
       "195         196   38.2    3.7       13.8    7.6\n",
       "196         197   94.2    4.9        8.1    9.7\n",
       "197         198  177.0    9.3        6.4   12.8\n",
       "198         199  283.6   42.0       66.2   25.5\n",
       "199         200  232.1    8.6        8.7   13.4\n",
       "\n",
       "[200 rows x 5 columns]"
      ]
     },
     "execution_count": 2,
     "metadata": {},
     "output_type": "execute_result"
    }
   ],
   "source": [
    "Ad_sales=pd.read_csv(\"advertising_sales.csv\")\n",
    "Ad_sales"
   ]
  },
  {
   "cell_type": "code",
   "execution_count": 3,
   "metadata": {},
   "outputs": [],
   "source": [
    "Ad_sales_new=Ad_sales.drop(['Unnamed: 0'], axis = 1)"
   ]
  },
  {
   "cell_type": "code",
   "execution_count": 4,
   "metadata": {},
   "outputs": [
    {
     "data": {
      "text/html": [
       "<div>\n",
       "<style scoped>\n",
       "    .dataframe tbody tr th:only-of-type {\n",
       "        vertical-align: middle;\n",
       "    }\n",
       "\n",
       "    .dataframe tbody tr th {\n",
       "        vertical-align: top;\n",
       "    }\n",
       "\n",
       "    .dataframe thead th {\n",
       "        text-align: right;\n",
       "    }\n",
       "</style>\n",
       "<table border=\"1\" class=\"dataframe\">\n",
       "  <thead>\n",
       "    <tr style=\"text-align: right;\">\n",
       "      <th></th>\n",
       "      <th>TV</th>\n",
       "      <th>radio</th>\n",
       "      <th>newspaper</th>\n",
       "      <th>sales</th>\n",
       "    </tr>\n",
       "  </thead>\n",
       "  <tbody>\n",
       "    <tr>\n",
       "      <th>0</th>\n",
       "      <td>230.1</td>\n",
       "      <td>37.8</td>\n",
       "      <td>69.2</td>\n",
       "      <td>22.1</td>\n",
       "    </tr>\n",
       "    <tr>\n",
       "      <th>1</th>\n",
       "      <td>44.5</td>\n",
       "      <td>39.3</td>\n",
       "      <td>45.1</td>\n",
       "      <td>10.4</td>\n",
       "    </tr>\n",
       "    <tr>\n",
       "      <th>2</th>\n",
       "      <td>17.2</td>\n",
       "      <td>45.9</td>\n",
       "      <td>69.3</td>\n",
       "      <td>9.3</td>\n",
       "    </tr>\n",
       "    <tr>\n",
       "      <th>3</th>\n",
       "      <td>151.5</td>\n",
       "      <td>41.3</td>\n",
       "      <td>58.5</td>\n",
       "      <td>18.5</td>\n",
       "    </tr>\n",
       "    <tr>\n",
       "      <th>4</th>\n",
       "      <td>180.8</td>\n",
       "      <td>10.8</td>\n",
       "      <td>58.4</td>\n",
       "      <td>12.9</td>\n",
       "    </tr>\n",
       "    <tr>\n",
       "      <th>...</th>\n",
       "      <td>...</td>\n",
       "      <td>...</td>\n",
       "      <td>...</td>\n",
       "      <td>...</td>\n",
       "    </tr>\n",
       "    <tr>\n",
       "      <th>195</th>\n",
       "      <td>38.2</td>\n",
       "      <td>3.7</td>\n",
       "      <td>13.8</td>\n",
       "      <td>7.6</td>\n",
       "    </tr>\n",
       "    <tr>\n",
       "      <th>196</th>\n",
       "      <td>94.2</td>\n",
       "      <td>4.9</td>\n",
       "      <td>8.1</td>\n",
       "      <td>9.7</td>\n",
       "    </tr>\n",
       "    <tr>\n",
       "      <th>197</th>\n",
       "      <td>177.0</td>\n",
       "      <td>9.3</td>\n",
       "      <td>6.4</td>\n",
       "      <td>12.8</td>\n",
       "    </tr>\n",
       "    <tr>\n",
       "      <th>198</th>\n",
       "      <td>283.6</td>\n",
       "      <td>42.0</td>\n",
       "      <td>66.2</td>\n",
       "      <td>25.5</td>\n",
       "    </tr>\n",
       "    <tr>\n",
       "      <th>199</th>\n",
       "      <td>232.1</td>\n",
       "      <td>8.6</td>\n",
       "      <td>8.7</td>\n",
       "      <td>13.4</td>\n",
       "    </tr>\n",
       "  </tbody>\n",
       "</table>\n",
       "<p>200 rows × 4 columns</p>\n",
       "</div>"
      ],
      "text/plain": [
       "        TV  radio  newspaper  sales\n",
       "0    230.1   37.8       69.2   22.1\n",
       "1     44.5   39.3       45.1   10.4\n",
       "2     17.2   45.9       69.3    9.3\n",
       "3    151.5   41.3       58.5   18.5\n",
       "4    180.8   10.8       58.4   12.9\n",
       "..     ...    ...        ...    ...\n",
       "195   38.2    3.7       13.8    7.6\n",
       "196   94.2    4.9        8.1    9.7\n",
       "197  177.0    9.3        6.4   12.8\n",
       "198  283.6   42.0       66.2   25.5\n",
       "199  232.1    8.6        8.7   13.4\n",
       "\n",
       "[200 rows x 4 columns]"
      ]
     },
     "execution_count": 4,
     "metadata": {},
     "output_type": "execute_result"
    }
   ],
   "source": [
    "Ad_sales_new"
   ]
  },
  {
   "cell_type": "markdown",
   "metadata": {},
   "source": [
    "Here the target variable is continuous, So we will use the Regression Analysis"
   ]
  },
  {
   "cell_type": "code",
   "execution_count": 5,
   "metadata": {},
   "outputs": [
    {
     "data": {
      "text/plain": [
       "(200, 4)"
      ]
     },
     "execution_count": 5,
     "metadata": {},
     "output_type": "execute_result"
    }
   ],
   "source": [
    "Ad_sales_new.shape"
   ]
  },
  {
   "cell_type": "markdown",
   "metadata": {},
   "source": [
    "DataFrame is having 200 rows and 5 columns"
   ]
  },
  {
   "cell_type": "code",
   "execution_count": 6,
   "metadata": {},
   "outputs": [
    {
     "data": {
      "text/plain": [
       "TV           float64\n",
       "radio        float64\n",
       "newspaper    float64\n",
       "sales        float64\n",
       "dtype: object"
      ]
     },
     "execution_count": 6,
     "metadata": {},
     "output_type": "execute_result"
    }
   ],
   "source": [
    "Ad_sales_new.dtypes"
   ]
  },
  {
   "cell_type": "markdown",
   "metadata": {},
   "source": [
    "All the datatype is of float type "
   ]
  },
  {
   "cell_type": "code",
   "execution_count": 7,
   "metadata": {},
   "outputs": [
    {
     "data": {
      "text/plain": [
       "TV           0\n",
       "radio        0\n",
       "newspaper    0\n",
       "sales        0\n",
       "dtype: int64"
      ]
     },
     "execution_count": 7,
     "metadata": {},
     "output_type": "execute_result"
    }
   ],
   "source": [
    "Ad_sales_new.isnull().sum()"
   ]
  },
  {
   "cell_type": "markdown",
   "metadata": {},
   "source": [
    "There is no null value in the DataFrame"
   ]
  },
  {
   "cell_type": "code",
   "execution_count": 8,
   "metadata": {},
   "outputs": [
    {
     "data": {
      "text/html": [
       "<div>\n",
       "<style scoped>\n",
       "    .dataframe tbody tr th:only-of-type {\n",
       "        vertical-align: middle;\n",
       "    }\n",
       "\n",
       "    .dataframe tbody tr th {\n",
       "        vertical-align: top;\n",
       "    }\n",
       "\n",
       "    .dataframe thead th {\n",
       "        text-align: right;\n",
       "    }\n",
       "</style>\n",
       "<table border=\"1\" class=\"dataframe\">\n",
       "  <thead>\n",
       "    <tr style=\"text-align: right;\">\n",
       "      <th></th>\n",
       "      <th>TV</th>\n",
       "      <th>radio</th>\n",
       "      <th>newspaper</th>\n",
       "      <th>sales</th>\n",
       "    </tr>\n",
       "  </thead>\n",
       "  <tbody>\n",
       "  </tbody>\n",
       "</table>\n",
       "</div>"
      ],
      "text/plain": [
       "Empty DataFrame\n",
       "Columns: [TV, radio, newspaper, sales]\n",
       "Index: []"
      ]
     },
     "execution_count": 8,
     "metadata": {},
     "output_type": "execute_result"
    }
   ],
   "source": [
    "Ad_sales_new.loc[Ad_sales[\"sales\"]== \" \"]"
   ]
  },
  {
   "cell_type": "markdown",
   "metadata": {},
   "source": [
    "It means no empty value in the sales"
   ]
  },
  {
   "cell_type": "markdown",
   "metadata": {},
   "source": [
    "# EDA ANALYSIS"
   ]
  },
  {
   "cell_type": "markdown",
   "metadata": {},
   "source": [
    "## Univariate Analysis"
   ]
  },
  {
   "cell_type": "markdown",
   "metadata": {},
   "source": [
    "### DistributionPlot"
   ]
  },
  {
   "cell_type": "code",
   "execution_count": 9,
   "metadata": {},
   "outputs": [
    {
     "data": {
      "text/plain": [
       "<AxesSubplot:xlabel='TV', ylabel='Density'>"
      ]
     },
     "execution_count": 9,
     "metadata": {},
     "output_type": "execute_result"
    },
    {
     "data": {
      "image/png": "[encoded data removed]",
      "text/plain": [
       "<Figure size 432x288 with 1 Axes>"
      ]
     },
     "metadata": {
      "needs_background": "light"
     },
     "output_type": "display_data"
    }
   ],
   "source": [
    "sns.distplot(Ad_sales_new[\"TV\"])"
   ]
  },
  {
   "cell_type": "markdown",
   "metadata": {},
   "source": [
    "Now looking at this we can say that TV sales lies between 0 and 300, \n",
    "with maximum value at 250.\n",
    "The plot is looking uniform"
   ]
  },
  {
   "cell_type": "code",
   "execution_count": 10,
   "metadata": {},
   "outputs": [
    {
     "data": {
      "text/plain": [
       "<AxesSubplot:xlabel='radio', ylabel='Density'>"
      ]
     },
     "execution_count": 10,
     "metadata": {},
     "output_type": "execute_result"
    },
    {
     "data": {
      "image/png": "[encoded data removed]",
      "text/plain": [
       "<Figure size 432x288 with 1 Axes>"
      ]
     },
     "metadata": {
      "needs_background": "light"
     },
     "output_type": "display_data"
    }
   ],
   "source": [
    "sns.distplot(Ad_sales_new[\"radio\"])"
   ]
  },
  {
   "cell_type": "markdown",
   "metadata": {},
   "source": [
    "Now looking at this we can say that radio sales lies between 0 and 50, \n",
    "with maximum value at 5 approximately.\n",
    "The plot is uniform"
   ]
  },
  {
   "cell_type": "code",
   "execution_count": 11,
   "metadata": {},
   "outputs": [
    {
     "data": {
      "text/plain": [
       "<AxesSubplot:xlabel='newspaper', ylabel='Density'>"
      ]
     },
     "execution_count": 11,
     "metadata": {},
     "output_type": "execute_result"
    },
    {
     "data": {
      "image/png": "[encoded data removed]",
      "text/plain": [
       "<Figure size 432x288 with 1 Axes>"
      ]
     },
     "metadata": {
      "needs_background": "light"
     },
     "output_type": "display_data"
    }
   ],
   "source": [
    "sns.distplot(Ad_sales_new[\"newspaper\"])"
   ]
  },
  {
   "cell_type": "markdown",
   "metadata": {},
   "source": [
    "Now looking at this we can say that newspaper sales lies between 0 and 110, \n",
    "with maximum value at 10 approximately.\n",
    "The plot is skewed, it is positively skewed"
   ]
  },
  {
   "cell_type": "code",
   "execution_count": 12,
   "metadata": {},
   "outputs": [
    {
     "data": {
      "text/plain": [
       "<AxesSubplot:xlabel='sales', ylabel='Density'>"
      ]
     },
     "execution_count": 12,
     "metadata": {},
     "output_type": "execute_result"
    },
    {
     "data": {
      "image/png": "[encoded data removed]",
      "text/plain": [
       "<Figure size 432x288 with 1 Axes>"
      ]
     },
     "metadata": {
      "needs_background": "light"
     },
     "output_type": "display_data"
    }
   ],
   "source": [
    "sns.distplot(Ad_sales_new[\"sales\"])"
   ]
  },
  {
   "cell_type": "markdown",
   "metadata": {},
   "source": [
    "Now looking at this we can say that newspaper sales lies between 0 and 30, \n",
    "with maximum value at 12 approximately.\n",
    "The plot is skewed, it is positively skewed"
   ]
  },
  {
   "cell_type": "markdown",
   "metadata": {},
   "source": [
    "### Outliers Checking"
   ]
  },
  {
   "cell_type": "code",
   "execution_count": 13,
   "metadata": {},
   "outputs": [
    {
     "data": {
      "text/plain": [
       "<AxesSubplot:xlabel='TV'>"
      ]
     },
     "execution_count": 13,
     "metadata": {},
     "output_type": "execute_result"
    },
    {
     "data": {
      "image/png": "[encoded data removed]",
      "text/plain": [
       "<Figure size 432x288 with 1 Axes>"
      ]
     },
     "metadata": {
      "needs_background": "light"
     },
     "output_type": "display_data"
    }
   ],
   "source": [
    "sns.boxplot(Ad_sales_new[\"TV\"])"
   ]
  },
  {
   "cell_type": "code",
   "execution_count": 14,
   "metadata": {},
   "outputs": [
    {
     "data": {
      "text/plain": [
       "<AxesSubplot:xlabel='radio'>"
      ]
     },
     "execution_count": 14,
     "metadata": {},
     "output_type": "execute_result"
    },
    {
     "data": {
      "image/png": "[encoded data removed]",
      "text/plain": [
       "<Figure size 432x288 with 1 Axes>"
      ]
     },
     "metadata": {
      "needs_background": "light"
     },
     "output_type": "display_data"
    }
   ],
   "source": [
    "sns.boxplot(Ad_sales_new[\"radio\"])"
   ]
  },
  {
   "cell_type": "code",
   "execution_count": 15,
   "metadata": {},
   "outputs": [
    {
     "data": {
      "text/plain": [
       "<AxesSubplot:xlabel='newspaper'>"
      ]
     },
     "execution_count": 15,
     "metadata": {},
     "output_type": "execute_result"
    },
    {
     "data": {
      "image/png": "[encoded data removed]",
      "text/plain": [
       "<Figure size 432x288 with 1 Axes>"
      ]
     },
     "metadata": {
      "needs_background": "light"
     },
     "output_type": "display_data"
    }
   ],
   "source": [
    "sns.boxplot(Ad_sales_new[\"newspaper\"])"
   ]
  },
  {
   "cell_type": "code",
   "execution_count": 16,
   "metadata": {},
   "outputs": [
    {
     "data": {
      "text/plain": [
       "<AxesSubplot:xlabel='sales'>"
      ]
     },
     "execution_count": 16,
     "metadata": {},
     "output_type": "execute_result"
    },
    {
     "data": {
      "image/png": "[encoded data removed]",
      "text/plain": [
       "<Figure size 432x288 with 1 Axes>"
      ]
     },
     "metadata": {
      "needs_background": "light"
     },
     "output_type": "display_data"
    }
   ],
   "source": [
    "sns.boxplot(Ad_sales_new[\"sales\"])"
   ]
  },
  {
   "cell_type": "markdown",
   "metadata": {},
   "source": [
    "We can see outliers in the newspaper column only"
   ]
  },
  {
   "cell_type": "markdown",
   "metadata": {},
   "source": [
    "## Bivariate Analysis\n"
   ]
  },
  {
   "cell_type": "code",
   "execution_count": 17,
   "metadata": {},
   "outputs": [
    {
     "data": {
      "image/png": "[encoded data removed]",
      "text/plain": [
       "<Figure size 720x432 with 1 Axes>"
      ]
     },
     "metadata": {
      "needs_background": "light"
     },
     "output_type": "display_data"
    }
   ],
   "source": [
    "plt.figure(figsize=[10,6])\n",
    "plt.title('Comparison between TV and radio')\n",
    "sns.scatterplot(Ad_sales_new['TV'], Ad_sales_new[\"radio\"], hue=Ad_sales_new[\"sales\"]);"
   ]
  },
  {
   "cell_type": "code",
   "execution_count": 18,
   "metadata": {},
   "outputs": [
    {
     "data": {
      "image/png": "[encoded data removed]",
      "text/plain": [
       "<Figure size 720x432 with 1 Axes>"
      ]
     },
     "metadata": {
      "needs_background": "light"
     },
     "output_type": "display_data"
    }
   ],
   "source": [
    "plt.figure(figsize=[10,6])\n",
    "plt.title('Comparison between radio and newspaper')\n",
    "sns.scatterplot(Ad_sales_new[\"radio\"], Ad_sales_new[\"newspaper\"], hue=Ad_sales_new[\"sales\"]);"
   ]
  },
  {
   "cell_type": "code",
   "execution_count": 19,
   "metadata": {},
   "outputs": [
    {
     "data": {
      "image/png": "[encoded data removed]",
      "text/plain": [
       "<Figure size 720x432 with 1 Axes>"
      ]
     },
     "metadata": {
      "needs_background": "light"
     },
     "output_type": "display_data"
    }
   ],
   "source": [
    "plt.figure(figsize=[10,6])\n",
    "plt.title('Comparison between newspaper and sales')\n",
    "sns.scatterplot(Ad_sales_new['newspaper'], Ad_sales_new[\"sales\"], hue=Ad_sales_new[\"sales\"]);"
   ]
  },
  {
   "cell_type": "markdown",
   "metadata": {},
   "source": [
    "From the scatterplot, we cannot find any correlation between the column's data"
   ]
  },
  {
   "cell_type": "code",
   "execution_count": 20,
   "metadata": {},
   "outputs": [
    {
     "data": {
      "text/plain": [
       "<seaborn.axisgrid.PairGrid at 0x255729b03d0>"
      ]
     },
     "execution_count": 20,
     "metadata": {},
     "output_type": "execute_result"
    },
    {
     "data": {
      "image/png": "[encoded data removed]",
      "text/plain": [
       "<Figure size 588.75x540 with 12 Axes>"
      ]
     },
     "metadata": {
      "needs_background": "light"
     },
     "output_type": "display_data"
    }
   ],
   "source": [
    "sns.pairplot(Ad_sales_new,hue=\"sales\") "
   ]
  },
  {
   "cell_type": "code",
   "execution_count": 21,
   "metadata": {},
   "outputs": [
    {
     "data": {
      "text/html": [
       "<div>\n",
       "<style scoped>\n",
       "    .dataframe tbody tr th:only-of-type {\n",
       "        vertical-align: middle;\n",
       "    }\n",
       "\n",
       "    .dataframe tbody tr th {\n",
       "        vertical-align: top;\n",
       "    }\n",
       "\n",
       "    .dataframe thead th {\n",
       "        text-align: right;\n",
       "    }\n",
       "</style>\n",
       "<table border=\"1\" class=\"dataframe\">\n",
       "  <thead>\n",
       "    <tr style=\"text-align: right;\">\n",
       "      <th></th>\n",
       "      <th>TV</th>\n",
       "      <th>radio</th>\n",
       "      <th>newspaper</th>\n",
       "      <th>sales</th>\n",
       "    </tr>\n",
       "  </thead>\n",
       "  <tbody>\n",
       "    <tr>\n",
       "      <th>count</th>\n",
       "      <td>200.000000</td>\n",
       "      <td>200.000000</td>\n",
       "      <td>200.000000</td>\n",
       "      <td>200.000000</td>\n",
       "    </tr>\n",
       "    <tr>\n",
       "      <th>mean</th>\n",
       "      <td>147.042500</td>\n",
       "      <td>23.264000</td>\n",
       "      <td>30.554000</td>\n",
       "      <td>14.022500</td>\n",
       "    </tr>\n",
       "    <tr>\n",
       "      <th>std</th>\n",
       "      <td>85.854236</td>\n",
       "      <td>14.846809</td>\n",
       "      <td>21.778621</td>\n",
       "      <td>5.217457</td>\n",
       "    </tr>\n",
       "    <tr>\n",
       "      <th>min</th>\n",
       "      <td>0.700000</td>\n",
       "      <td>0.000000</td>\n",
       "      <td>0.300000</td>\n",
       "      <td>1.600000</td>\n",
       "    </tr>\n",
       "    <tr>\n",
       "      <th>25%</th>\n",
       "      <td>74.375000</td>\n",
       "      <td>9.975000</td>\n",
       "      <td>12.750000</td>\n",
       "      <td>10.375000</td>\n",
       "    </tr>\n",
       "    <tr>\n",
       "      <th>50%</th>\n",
       "      <td>149.750000</td>\n",
       "      <td>22.900000</td>\n",
       "      <td>25.750000</td>\n",
       "      <td>12.900000</td>\n",
       "    </tr>\n",
       "    <tr>\n",
       "      <th>75%</th>\n",
       "      <td>218.825000</td>\n",
       "      <td>36.525000</td>\n",
       "      <td>45.100000</td>\n",
       "      <td>17.400000</td>\n",
       "    </tr>\n",
       "    <tr>\n",
       "      <th>max</th>\n",
       "      <td>296.400000</td>\n",
       "      <td>49.600000</td>\n",
       "      <td>114.000000</td>\n",
       "      <td>27.000000</td>\n",
       "    </tr>\n",
       "  </tbody>\n",
       "</table>\n",
       "</div>"
      ],
      "text/plain": [
       "               TV       radio   newspaper       sales\n",
       "count  200.000000  200.000000  200.000000  200.000000\n",
       "mean   147.042500   23.264000   30.554000   14.022500\n",
       "std     85.854236   14.846809   21.778621    5.217457\n",
       "min      0.700000    0.000000    0.300000    1.600000\n",
       "25%     74.375000    9.975000   12.750000   10.375000\n",
       "50%    149.750000   22.900000   25.750000   12.900000\n",
       "75%    218.825000   36.525000   45.100000   17.400000\n",
       "max    296.400000   49.600000  114.000000   27.000000"
      ]
     },
     "execution_count": 21,
     "metadata": {},
     "output_type": "execute_result"
    }
   ],
   "source": [
    "Ad_sales_new.describe()"
   ]
  },
  {
   "cell_type": "markdown",
   "metadata": {},
   "source": [
    "From the table we can observe that mean and standard deviation for the TV column is highest of all columns.\n",
    "\n",
    "Minimum value for TV is 0.7 and maximum is 296.4\n",
    "\n",
    "Minimum value for radio is 0 and maximum is 49\n",
    "\n",
    "Minimum value for newspaper is 0.3 and maximum is 114\n",
    "\n",
    "Minimum value for radio is 1.6 and maximum is 27\n",
    "\n",
    "The difference between minimum value and 50 percentile is very huge in all cases."
   ]
  },
  {
   "cell_type": "markdown",
   "metadata": {},
   "source": [
    "## Multivariate Analysis"
   ]
  },
  {
   "cell_type": "code",
   "execution_count": 22,
   "metadata": {},
   "outputs": [
    {
     "data": {
      "text/html": [
       "<div>\n",
       "<style scoped>\n",
       "    .dataframe tbody tr th:only-of-type {\n",
       "        vertical-align: middle;\n",
       "    }\n",
       "\n",
       "    .dataframe tbody tr th {\n",
       "        vertical-align: top;\n",
       "    }\n",
       "\n",
       "    .dataframe thead th {\n",
       "        text-align: right;\n",
       "    }\n",
       "</style>\n",
       "<table border=\"1\" class=\"dataframe\">\n",
       "  <thead>\n",
       "    <tr style=\"text-align: right;\">\n",
       "      <th></th>\n",
       "      <th>TV</th>\n",
       "      <th>radio</th>\n",
       "      <th>newspaper</th>\n",
       "      <th>sales</th>\n",
       "    </tr>\n",
       "  </thead>\n",
       "  <tbody>\n",
       "    <tr>\n",
       "      <th>TV</th>\n",
       "      <td>1.000000</td>\n",
       "      <td>0.054809</td>\n",
       "      <td>0.056648</td>\n",
       "      <td>0.782224</td>\n",
       "    </tr>\n",
       "    <tr>\n",
       "      <th>radio</th>\n",
       "      <td>0.054809</td>\n",
       "      <td>1.000000</td>\n",
       "      <td>0.354104</td>\n",
       "      <td>0.576223</td>\n",
       "    </tr>\n",
       "    <tr>\n",
       "      <th>newspaper</th>\n",
       "      <td>0.056648</td>\n",
       "      <td>0.354104</td>\n",
       "      <td>1.000000</td>\n",
       "      <td>0.228299</td>\n",
       "    </tr>\n",
       "    <tr>\n",
       "      <th>sales</th>\n",
       "      <td>0.782224</td>\n",
       "      <td>0.576223</td>\n",
       "      <td>0.228299</td>\n",
       "      <td>1.000000</td>\n",
       "    </tr>\n",
       "  </tbody>\n",
       "</table>\n",
       "</div>"
      ],
      "text/plain": [
       "                 TV     radio  newspaper     sales\n",
       "TV         1.000000  0.054809   0.056648  0.782224\n",
       "radio      0.054809  1.000000   0.354104  0.576223\n",
       "newspaper  0.056648  0.354104   1.000000  0.228299\n",
       "sales      0.782224  0.576223   0.228299  1.000000"
      ]
     },
     "execution_count": 22,
     "metadata": {},
     "output_type": "execute_result"
    }
   ],
   "source": [
    "cor=Ad_sales_new.corr()\n",
    "cor"
   ]
  },
  {
   "cell_type": "markdown",
   "metadata": {},
   "source": [
    "From correlation table we can observe that\n",
    "\n",
    "positive correaltion can be seen between TV and sales columns with value=0.78\n",
    "\n",
    "and radio and sales with value=0.58\n",
    "\n"
   ]
  },
  {
   "cell_type": "code",
   "execution_count": 23,
   "metadata": {},
   "outputs": [
    {
     "data": {
      "text/plain": [
       "<AxesSubplot:>"
      ]
     },
     "execution_count": 23,
     "metadata": {},
     "output_type": "execute_result"
    },
    {
     "data": {
      "image/png": "[encoded data removed]",
      "text/plain": [
       "<Figure size 720x432 with 2 Axes>"
      ]
     },
     "metadata": {
      "needs_background": "light"
     },
     "output_type": "display_data"
    }
   ],
   "source": [
    "plt.figure(figsize=(10,6))\n",
    "sns.heatmap(cor,cmap='Greens',annot=True)"
   ]
  },
  {
   "cell_type": "markdown",
   "metadata": {},
   "source": [
    "Same correlation can be found in the heatmap like correlation table"
   ]
  },
  {
   "cell_type": "markdown",
   "metadata": {},
   "source": [
    "## Z-Score for outlier-removal"
   ]
  },
  {
   "cell_type": "code",
   "execution_count": 24,
   "metadata": {},
   "outputs": [],
   "source": [
    "from scipy.stats import zscore\n",
    "z=np.abs(zscore(Ad_sales_new))\n",
    "Adsales=Ad_sales_new[(z<3).all(axis=1)]"
   ]
  },
  {
   "cell_type": "code",
   "execution_count": 25,
   "metadata": {},
   "outputs": [
    {
     "data": {
      "text/plain": [
       "(198, 4)"
      ]
     },
     "execution_count": 25,
     "metadata": {},
     "output_type": "execute_result"
    }
   ],
   "source": [
    "Adsales.shape"
   ]
  },
  {
   "cell_type": "code",
   "execution_count": 26,
   "metadata": {},
   "outputs": [
    {
     "data": {
      "text/plain": [
       "(200, 4)"
      ]
     },
     "execution_count": 26,
     "metadata": {},
     "output_type": "execute_result"
    }
   ],
   "source": [
    "Ad_sales_new.shape"
   ]
  },
  {
   "cell_type": "code",
   "execution_count": 27,
   "metadata": {},
   "outputs": [
    {
     "data": {
      "text/plain": [
       "0.01"
      ]
     },
     "execution_count": 27,
     "metadata": {},
     "output_type": "execute_result"
    }
   ],
   "source": [
    "2/200"
   ]
  },
  {
   "cell_type": "markdown",
   "metadata": {},
   "source": [
    "So the new DataFrame after outlier removal is acceptable (less than 0.05)"
   ]
  },
  {
   "cell_type": "markdown",
   "metadata": {},
   "source": [
    "## Checking for Skewness"
   ]
  },
  {
   "cell_type": "code",
   "execution_count": 28,
   "metadata": {},
   "outputs": [
    {
     "data": {
      "text/plain": [
       "TV          -0.082332\n",
       "radio        0.114842\n",
       "newspaper    0.650112\n",
       "sales        0.407130\n",
       "dtype: float64"
      ]
     },
     "execution_count": 28,
     "metadata": {},
     "output_type": "execute_result"
    }
   ],
   "source": [
    "Adsales.skew()"
   ]
  },
  {
   "cell_type": "markdown",
   "metadata": {},
   "source": [
    "Here we can see that only newspaper column having positive skewness more than 0.5.\n",
    "\n",
    "So we will remove skewness form that column."
   ]
  },
  {
   "cell_type": "markdown",
   "metadata": {},
   "source": [
    "### Skewness removal using Power_Transform method\n"
   ]
  },
  {
   "cell_type": "code",
   "execution_count": 29,
   "metadata": {},
   "outputs": [
    {
     "data": {
      "text/html": [
       "<div>\n",
       "<style scoped>\n",
       "    .dataframe tbody tr th:only-of-type {\n",
       "        vertical-align: middle;\n",
       "    }\n",
       "\n",
       "    .dataframe tbody tr th {\n",
       "        vertical-align: top;\n",
       "    }\n",
       "\n",
       "    .dataframe thead th {\n",
       "        text-align: right;\n",
       "    }\n",
       "</style>\n",
       "<table border=\"1\" class=\"dataframe\">\n",
       "  <thead>\n",
       "    <tr style=\"text-align: right;\">\n",
       "      <th></th>\n",
       "      <th>TV</th>\n",
       "      <th>radio</th>\n",
       "      <th>newspaper</th>\n",
       "    </tr>\n",
       "  </thead>\n",
       "  <tbody>\n",
       "    <tr>\n",
       "      <th>0</th>\n",
       "      <td>230.1</td>\n",
       "      <td>37.8</td>\n",
       "      <td>69.2</td>\n",
       "    </tr>\n",
       "    <tr>\n",
       "      <th>1</th>\n",
       "      <td>44.5</td>\n",
       "      <td>39.3</td>\n",
       "      <td>45.1</td>\n",
       "    </tr>\n",
       "    <tr>\n",
       "      <th>2</th>\n",
       "      <td>17.2</td>\n",
       "      <td>45.9</td>\n",
       "      <td>69.3</td>\n",
       "    </tr>\n",
       "    <tr>\n",
       "      <th>3</th>\n",
       "      <td>151.5</td>\n",
       "      <td>41.3</td>\n",
       "      <td>58.5</td>\n",
       "    </tr>\n",
       "    <tr>\n",
       "      <th>4</th>\n",
       "      <td>180.8</td>\n",
       "      <td>10.8</td>\n",
       "      <td>58.4</td>\n",
       "    </tr>\n",
       "    <tr>\n",
       "      <th>...</th>\n",
       "      <td>...</td>\n",
       "      <td>...</td>\n",
       "      <td>...</td>\n",
       "    </tr>\n",
       "    <tr>\n",
       "      <th>195</th>\n",
       "      <td>38.2</td>\n",
       "      <td>3.7</td>\n",
       "      <td>13.8</td>\n",
       "    </tr>\n",
       "    <tr>\n",
       "      <th>196</th>\n",
       "      <td>94.2</td>\n",
       "      <td>4.9</td>\n",
       "      <td>8.1</td>\n",
       "    </tr>\n",
       "    <tr>\n",
       "      <th>197</th>\n",
       "      <td>177.0</td>\n",
       "      <td>9.3</td>\n",
       "      <td>6.4</td>\n",
       "    </tr>\n",
       "    <tr>\n",
       "      <th>198</th>\n",
       "      <td>283.6</td>\n",
       "      <td>42.0</td>\n",
       "      <td>66.2</td>\n",
       "    </tr>\n",
       "    <tr>\n",
       "      <th>199</th>\n",
       "      <td>232.1</td>\n",
       "      <td>8.6</td>\n",
       "      <td>8.7</td>\n",
       "    </tr>\n",
       "  </tbody>\n",
       "</table>\n",
       "<p>198 rows × 3 columns</p>\n",
       "</div>"
      ],
      "text/plain": [
       "        TV  radio  newspaper\n",
       "0    230.1   37.8       69.2\n",
       "1     44.5   39.3       45.1\n",
       "2     17.2   45.9       69.3\n",
       "3    151.5   41.3       58.5\n",
       "4    180.8   10.8       58.4\n",
       "..     ...    ...        ...\n",
       "195   38.2    3.7       13.8\n",
       "196   94.2    4.9        8.1\n",
       "197  177.0    9.3        6.4\n",
       "198  283.6   42.0       66.2\n",
       "199  232.1    8.6        8.7\n",
       "\n",
       "[198 rows x 3 columns]"
      ]
     },
     "execution_count": 29,
     "metadata": {},
     "output_type": "execute_result"
    }
   ],
   "source": [
    "x=Adsales.iloc[:,:-1]\n",
    "x"
   ]
  },
  {
   "cell_type": "code",
   "execution_count": 30,
   "metadata": {},
   "outputs": [
    {
     "data": {
      "text/plain": [
       "0      22.1\n",
       "1      10.4\n",
       "2       9.3\n",
       "3      18.5\n",
       "4      12.9\n",
       "       ... \n",
       "195     7.6\n",
       "196     9.7\n",
       "197    12.8\n",
       "198    25.5\n",
       "199    13.4\n",
       "Name: sales, Length: 198, dtype: float64"
      ]
     },
     "execution_count": 30,
     "metadata": {},
     "output_type": "execute_result"
    }
   ],
   "source": [
    "y=Adsales.iloc[:,-1]\n",
    "y"
   ]
  },
  {
   "cell_type": "code",
   "execution_count": 31,
   "metadata": {},
   "outputs": [
    {
     "data": {
      "text/plain": [
       "array([[ 0.95598306,  0.9691098 ,  1.6041965 ],\n",
       "       [-1.19200349,  1.04623436,  0.83104401],\n",
       "       [-1.6461253 ,  1.37296802,  1.60705249],\n",
       "       [ 0.14293428,  1.1473316 ,  1.28376774],\n",
       "       [ 0.45645241, -0.73502642,  1.28062154],\n",
       "       [-1.8204008 ,  1.51543955,  1.76610727],\n",
       "       [-1.00349358,  0.70309642, -0.10205346],\n",
       "       [-0.20996049, -0.0876566 , -0.84968895],\n",
       "       [-1.82264543, -1.62948287, -2.09866461],\n",
       "       [ 0.652694  , -1.56152179, -0.22649933],\n",
       "       [-0.88482761, -1.19258569, -0.06553382],\n",
       "       [ 0.80322028,  0.19357553, -1.59608414],\n",
       "       [-1.52567125,  0.82725998,  1.50859232],\n",
       "       [-0.48090308, -1.01613619, -1.23269654],\n",
       "       [ 0.69642374,  0.70856268,  0.86367455],\n",
       "       [ 0.60769456,  1.45886692,  1.1026083 ],\n",
       "       [ 1.44702338,  1.06152278,  1.19771741],\n",
       "       [-0.84304109, -0.02834315, -0.39458775],\n",
       "       [ 0.09676151,  0.18741189, -0.346834  ],\n",
       "       [ 0.84017479,  0.41523303,  1.11921444],\n",
       "       [ 1.02746612, -1.2660875 , -0.10205346],\n",
       "       [-1.72466475, -0.3430802 ,  0.99069777],\n",
       "       [ 0.93826742, -0.27204438,  0.0356758 ],\n",
       "       [-0.93674187, -0.59023588, -0.39458775],\n",
       "       [ 1.27285397, -1.44792482, -0.32336998],\n",
       "       [ 0.04802388,  0.50756488, -0.7740548 ],\n",
       "       [ 1.05376032, -0.28612399, -0.13384051],\n",
       "       [ 1.13797152,  0.38008881, -0.13384051],\n",
       "       [-0.82432769, -0.33590351,  0.66980347],\n",
       "       [ 1.55379249,  0.45008922,  0.76092313],\n",
       "       [-0.29552539, -0.23711359,  0.58357284],\n",
       "       [-0.48458608, -1.71704857,  0.21669702],\n",
       "       [ 1.29846636, -0.06117169, -2.2758464 ],\n",
       "       [-0.50304519, -1.7324148 , -1.21299201],\n",
       "       [ 1.53345233, -1.3771472 , -1.10919482],\n",
       "       [ 1.31077419,  1.27109462, -1.4708598 ],\n",
       "       [-0.77006157,  1.53885314,  0.85283827],\n",
       "       [-1.21308859,  0.35649509,  0.44045973],\n",
       "       [ 0.93531131,  0.96392681,  0.30682057],\n",
       "       [ 0.68018031,  0.08742886,  0.28905461],\n",
       "       [ 0.4165774 ,  0.73579933,  0.58755182],\n",
       "       [ 1.56025605,  0.41523303, -1.93614969],\n",
       "       [ 0.72477076, -0.94246393,  0.04555612],\n",
       "       [-1.50299171,  0.29691633,  0.76465678],\n",
       "       [ 0.39655706,  0.10007132,  0.2845934 ],\n",
       "       [-0.5776425 , -0.81067203,  0.46554742],\n",
       "       [ 1.05181524,  1.15733673, -0.38254334],\n",
       "       [ 0.92742341, -0.35027362,  1.00104316],\n",
       "       [-0.87399682, -0.66162053,  0.51093113],\n",
       "       [ 0.652694  , -1.49718987,  0.41936802],\n",
       "       [-0.44544938, -0.83642883, -1.65023317],\n",
       "       [ 0.82021967,  1.16732335,  0.62310406],\n",
       "       [ 0.47526481,  1.38737344,  1.29005095],\n",
       "       [ 1.27095405,  0.47892195, -0.54515187],\n",
       "       [ 0.6435106 ,  1.53885314,  1.33059751],\n",
       "       [-1.85241088,  0.43850198,  0.6928619 ],\n",
       "       [-0.02694246, -0.11434473, -0.50002298],\n",
       "       [ 0.7640894 ,  1.54819296,  0.54749686],\n",
       "       [ 0.76308359,  0.51896989, -1.03801781],\n",
       "       [-1.06021399, -1.64357954, -0.21538949],\n",
       "       [ 1.25764412,  1.21698291,  1.16198054],\n",
       "       [ 1.04597746, -0.37195568,  0.08950799],\n",
       "       [-0.41751811,  0.52466135, -1.11833294],\n",
       "       [-0.08464536,  1.22192414,  0.16568658],\n",
       "       [-0.84572231, -0.8624742 , -2.12148202],\n",
       "       [-1.39528628,  0.23035564, -1.86501   ],\n",
       "       [ 0.00785902, -0.44537697, -0.96167639],\n",
       "       [ 1.02746612,  0.40355071, -0.89675177],\n",
       "       [ 0.8242145 ,  1.27598779,  0.08466485],\n",
       "       [ 0.64555228,  0.58117899,  0.58755182],\n",
       "       [-0.33228945, -0.46028254,  0.29350789],\n",
       "       [-1.47377148,  0.71402259, -0.33506848],\n",
       "       [-0.10400761, -1.202897  ,  0.27564704],\n",
       "       [ 0.79019725,  0.23035564, -0.73744518],\n",
       "       [-1.65184774,  1.26619715,  2.13937255],\n",
       "       [-1.46187563, -1.70192244, -0.25453031],\n",
       "       [-0.20647326,  0.46164538, -0.65947105],\n",
       "       [-1.89822804,  0.54169198, -1.02934918],\n",
       "       [-0.25902053, -1.00678392, -0.12319395],\n",
       "       [-0.74778651,  0.35649509, -0.16609367],\n",
       "       [ 1.05084254, -1.3771472 ,  0.51501874],\n",
       "       [-0.76218508, -0.04143812,  0.32885333],\n",
       "       [-0.85377796,  1.30525722,  0.46138274],\n",
       "       [ 0.79119975,  1.23179329,  0.38526098],\n",
       "       [ 0.58509675, -0.16835339,  1.50271112],\n",
       "       [-0.74909326,  0.40355071, -0.53863938],\n",
       "       [-0.32158879,  1.11216604,  1.42831665],\n",
       "       [-0.59523084,  0.28489586,  1.72217946],\n",
       "       [-0.33228945,  1.4636021 ,  1.05224719],\n",
       "       [-0.04837336, -1.28768913, -1.03801781],\n",
       "       [-1.44333425, -1.71704857,  0.35069626],\n",
       "       [ 0.8331959 ,  0.74122791,  1.29945293],\n",
       "       [ 1.15818339,  0.90131402,  1.69166052],\n",
       "       [-0.36093577, -0.4827855 , -0.90472726],\n",
       "       [ 0.2709304 ,  0.63699688,  1.1026083 ],\n",
       "       [ 0.63022667, -1.44792482, -1.36815587],\n",
       "       [ 0.49923329,  0.00418624, -0.18240095],\n",
       "       [ 1.52419364,  1.19717332,  1.04546953],\n",
       "       [-0.0382122 ,  1.16732335,  0.86006693],\n",
       "       [ 0.87994389, -1.35429375,  0.99759864],\n",
       "       [ 1.43581778, -0.79365568, -0.21538949],\n",
       "       [ 0.53038105, -0.25104051, -0.41889554],\n",
       "       [ 1.03526502,  0.78443582, -1.43568966],\n",
       "       [-0.00783277,  1.39695704,  1.29945293],\n",
       "       [-1.50472569, -0.71852874,  0.20289058],\n",
       "       [-0.56887482, -1.92277996, -0.11788987],\n",
       "       [-1.72669682, -1.90334954,  0.00577961],\n",
       "       [ 1.20134779,  0.36830859, -1.41277956],\n",
       "       [ 0.91360226, -0.96064272,  1.22025052],\n",
       "       [ 1.06930594,  0.97946003, -0.11788987],\n",
       "       [ 0.40288531, -0.37921745, -1.83137048],\n",
       "       [ 0.75201155, -0.02181365, -0.9207956 ],\n",
       "       [-0.72433929,  1.41607663,  0.41512911],\n",
       "       [-0.76480878,  0.82192754,  1.09594084],\n",
       "       [ 0.00673953, -0.46028254,  0.00577961],\n",
       "       [-0.74778651, -1.83055994, -0.61831443],\n",
       "       [-0.14637764,  0.92227141,  1.87892616],\n",
       "       [-1.60487761, -0.33590351, -0.16609367],\n",
       "       [ 0.03020546,  0.36240602,  0.87087647],\n",
       "       [-1.61600701,  0.04924266,  1.01820721],\n",
       "       [ 0.89579959, -1.58822992, -0.56482448],\n",
       "       [-0.17634363,  0.8005392 , -0.78891695],\n",
       "       [ 0.95008184,  0.67566908,  1.7442111 ],\n",
       "       [-0.60910057, -0.65359273,  0.02077604],\n",
       "       [-1.84082856,  1.02577993,  1.02504572],\n",
       "       [-0.69844865, -1.98495808, -1.04673537],\n",
       "       [ 0.8590884 ,  1.52012963, -1.70718676],\n",
       "       [-0.97412104, -0.63761079,  0.75718457],\n",
       "       [-2.03323356,  1.06152278, -1.09108448],\n",
       "       [ 1.2946762 , -1.52253007,  0.7534411 ],\n",
       "       [-1.82715302,  0.38596655, -1.88228781],\n",
       "       [ 0.85411524,  0.74122791,  0.83104401],\n",
       "       [-1.30867028,  1.0103861 ,  1.49976669],\n",
       "       [-1.13560137,  1.42561279, -1.10919482],\n",
       "       [-1.49434751,  1.03090107, -1.03801781],\n",
       "       [ 1.37490294,  0.48466558,  1.32128542],\n",
       "       [-1.21460127,  0.30890141, -0.2658475 ],\n",
       "       [ 0.49923329,  1.27598779, -1.95484304],\n",
       "       [-0.78718324, -0.2650278 , -0.75199725],\n",
       "       [ 0.59023843,  0.84322253,  1.78244184],\n",
       "       [ 0.86107685,  0.72492349,  0.55555544],\n",
       "       [-0.39456576, -1.202897  ,  0.41088327],\n",
       "       [-0.49688394, -0.42315979,  0.59549238],\n",
       "       [ 0.01904252, -1.65786243, -1.06432036],\n",
       "       [ 1.05376032, -1.04445327, -1.09108448],\n",
       "       [ 1.08385578,  1.52012963,  0.80172759],\n",
       "       [-1.29143203,  1.09702388, -0.82664429],\n",
       "       [-1.1890052 ,  0.30291327, -0.26018131],\n",
       "       [ 1.44048829, -0.49032576,  0.51910011],\n",
       "       [-0.20066619, -0.94246393,  0.95944652],\n",
       "       [ 0.63022667,  0.15022331, -0.65947105],\n",
       "       [ 0.35634693,  1.06660903,  0.54749686],\n",
       "       [ 0.52934487,  0.01065705, -1.02072873],\n",
       "       [-1.93163495, -0.66967326, -1.39027462],\n",
       "       [-0.52529469,  1.25638925,  1.02162839],\n",
       "       [ 0.12428563, -1.74803521, -0.06036496],\n",
       "       [-1.75555556,  0.92227141,  0.83468776],\n",
       "       [-0.07782712, -0.16835339,  0.41936802],\n",
       "       [ 0.36906953, -0.18883181,  0.24861364],\n",
       "       [-0.62808655,  0.86442562,  0.98031676],\n",
       "       [ 0.5355598 , -0.18883181,  0.00577961],\n",
       "       [ 0.2730788 ,  0.91704026, -1.21299201],\n",
       "       [-0.24495734, -0.43054692, -1.42418272],\n",
       "       [ 0.99913782, -1.46007371,  2.02414625],\n",
       "       [-1.63286723,  0.95873855, -0.20433701],\n",
       "       [ 0.72376009, -1.25539136, -0.32921092],\n",
       "       [ 0.81022423,  0.16886223,  1.25534066],\n",
       "       [ 1.47405264, -0.75163452, -1.31443661],\n",
       "       [-1.11073781, -0.66967326, -0.38855655],\n",
       "       [ 0.28381064, -0.00229617,  0.91372099],\n",
       "       [-1.60118681, -0.05458158, -0.47470116],\n",
       "       [ 0.32550506, -1.06355551, -0.75931882],\n",
       "       [ 0.87994389, -1.46007371, -0.73744518],\n",
       "       [ 1.40493806,  1.51543955,  0.70812926],\n",
       "       [ 1.13411664,  0.55865764, -0.27722588],\n",
       "       [ 0.34466429, -0.99747386,  0.44465771],\n",
       "       [ 1.40306351, -1.60181548, -0.09155822],\n",
       "       [ 0.29559622, -0.80214864, -0.43732278],\n",
       "       [ 0.19855946, -1.56152179, -1.12752759],\n",
       "       [ 0.8411713 , -1.23420066,  0.09434122],\n",
       "       [-1.02181379, -1.202897  ,  0.20289058],\n",
       "       [ 1.50472337,  1.23179329,  1.67770049],\n",
       "       [ 1.18602318,  0.02356422,  0.21669702],\n",
       "       [ 0.70554619,  1.33437513, -0.31754553],\n",
       "       [ 0.01009737, -1.62948287,  0.05539471],\n",
       "       [ 0.56346396,  0.47317073, -0.40063711],\n",
       "       [ 1.48986416, -0.49032576, -1.63644784],\n",
       "       [-1.61787038, -0.62965614, -0.1073197 ],\n",
       "       [-1.26812741,  1.13730782, -1.3791681 ],\n",
       "       [-0.75956316, -0.73502642, -1.3572358 ],\n",
       "       [-1.6461253 , -1.3771472 ,  0.28905461],\n",
       "       [ 0.30843016,  1.18226883, -1.65023317],\n",
       "       [ 0.12318696,  0.85383548, -1.3572358 ],\n",
       "       [-1.28831146, -1.42394128, -0.68743455],\n",
       "       [-0.52157887, -1.28768913, -1.14609038],\n",
       "       [ 0.4165774 , -0.8624742 , -1.31443661],\n",
       "       [ 1.4675349 ,  1.18226883,  1.51739504],\n",
       "       [ 0.97562509, -0.92443675, -1.09108448]])"
      ]
     },
     "execution_count": 31,
     "metadata": {},
     "output_type": "execute_result"
    }
   ],
   "source": [
    "from sklearn.preprocessing import power_transform\n",
    "X=power_transform(x, method='yeo-johnson')\n",
    "X"
   ]
  },
  {
   "cell_type": "code",
   "execution_count": 32,
   "metadata": {},
   "outputs": [
    {
     "data": {
      "text/plain": [
       "array([[ 0.95598306,  0.9691098 ,  1.6041965 ],\n",
       "       [-1.19200349,  1.04623436,  0.83104401],\n",
       "       [-1.6461253 ,  1.37296802,  1.60705249],\n",
       "       [ 0.14293428,  1.1473316 ,  1.28376774],\n",
       "       [ 0.45645241, -0.73502642,  1.28062154],\n",
       "       [-1.8204008 ,  1.51543955,  1.76610727],\n",
       "       [-1.00349358,  0.70309642, -0.10205346],\n",
       "       [-0.20996049, -0.0876566 , -0.84968895],\n",
       "       [-1.82264543, -1.62948287, -2.09866461],\n",
       "       [ 0.652694  , -1.56152179, -0.22649933],\n",
       "       [-0.88482761, -1.19258569, -0.06553382],\n",
       "       [ 0.80322028,  0.19357553, -1.59608414],\n",
       "       [-1.52567125,  0.82725998,  1.50859232],\n",
       "       [-0.48090308, -1.01613619, -1.23269654],\n",
       "       [ 0.69642374,  0.70856268,  0.86367455],\n",
       "       [ 0.60769456,  1.45886692,  1.1026083 ],\n",
       "       [ 1.44702338,  1.06152278,  1.19771741],\n",
       "       [-0.84304109, -0.02834315, -0.39458775],\n",
       "       [ 0.09676151,  0.18741189, -0.346834  ],\n",
       "       [ 0.84017479,  0.41523303,  1.11921444],\n",
       "       [ 1.02746612, -1.2660875 , -0.10205346],\n",
       "       [-1.72466475, -0.3430802 ,  0.99069777],\n",
       "       [ 0.93826742, -0.27204438,  0.0356758 ],\n",
       "       [-0.93674187, -0.59023588, -0.39458775],\n",
       "       [ 1.27285397, -1.44792482, -0.32336998],\n",
       "       [ 0.04802388,  0.50756488, -0.7740548 ],\n",
       "       [ 1.05376032, -0.28612399, -0.13384051],\n",
       "       [ 1.13797152,  0.38008881, -0.13384051],\n",
       "       [-0.82432769, -0.33590351,  0.66980347],\n",
       "       [ 1.55379249,  0.45008922,  0.76092313],\n",
       "       [-0.29552539, -0.23711359,  0.58357284],\n",
       "       [-0.48458608, -1.71704857,  0.21669702],\n",
       "       [ 1.29846636, -0.06117169, -2.2758464 ],\n",
       "       [-0.50304519, -1.7324148 , -1.21299201],\n",
       "       [ 1.53345233, -1.3771472 , -1.10919482],\n",
       "       [ 1.31077419,  1.27109462, -1.4708598 ],\n",
       "       [-0.77006157,  1.53885314,  0.85283827],\n",
       "       [-1.21308859,  0.35649509,  0.44045973],\n",
       "       [ 0.93531131,  0.96392681,  0.30682057],\n",
       "       [ 0.68018031,  0.08742886,  0.28905461],\n",
       "       [ 0.4165774 ,  0.73579933,  0.58755182],\n",
       "       [ 1.56025605,  0.41523303, -1.93614969],\n",
       "       [ 0.72477076, -0.94246393,  0.04555612],\n",
       "       [-1.50299171,  0.29691633,  0.76465678],\n",
       "       [ 0.39655706,  0.10007132,  0.2845934 ],\n",
       "       [-0.5776425 , -0.81067203,  0.46554742],\n",
       "       [ 1.05181524,  1.15733673, -0.38254334],\n",
       "       [ 0.92742341, -0.35027362,  1.00104316],\n",
       "       [-0.87399682, -0.66162053,  0.51093113],\n",
       "       [ 0.652694  , -1.49718987,  0.41936802],\n",
       "       [-0.44544938, -0.83642883, -1.65023317],\n",
       "       [ 0.82021967,  1.16732335,  0.62310406],\n",
       "       [ 0.47526481,  1.38737344,  1.29005095],\n",
       "       [ 1.27095405,  0.47892195, -0.54515187],\n",
       "       [ 0.6435106 ,  1.53885314,  1.33059751],\n",
       "       [-1.85241088,  0.43850198,  0.6928619 ],\n",
       "       [-0.02694246, -0.11434473, -0.50002298],\n",
       "       [ 0.7640894 ,  1.54819296,  0.54749686],\n",
       "       [ 0.76308359,  0.51896989, -1.03801781],\n",
       "       [-1.06021399, -1.64357954, -0.21538949],\n",
       "       [ 1.25764412,  1.21698291,  1.16198054],\n",
       "       [ 1.04597746, -0.37195568,  0.08950799],\n",
       "       [-0.41751811,  0.52466135, -1.11833294],\n",
       "       [-0.08464536,  1.22192414,  0.16568658],\n",
       "       [-0.84572231, -0.8624742 , -2.12148202],\n",
       "       [-1.39528628,  0.23035564, -1.86501   ],\n",
       "       [ 0.00785902, -0.44537697, -0.96167639],\n",
       "       [ 1.02746612,  0.40355071, -0.89675177],\n",
       "       [ 0.8242145 ,  1.27598779,  0.08466485],\n",
       "       [ 0.64555228,  0.58117899,  0.58755182],\n",
       "       [-0.33228945, -0.46028254,  0.29350789],\n",
       "       [-1.47377148,  0.71402259, -0.33506848],\n",
       "       [-0.10400761, -1.202897  ,  0.27564704],\n",
       "       [ 0.79019725,  0.23035564, -0.73744518],\n",
       "       [-1.65184774,  1.26619715,  2.13937255],\n",
       "       [-1.46187563, -1.70192244, -0.25453031],\n",
       "       [-0.20647326,  0.46164538, -0.65947105],\n",
       "       [-1.89822804,  0.54169198, -1.02934918],\n",
       "       [-0.25902053, -1.00678392, -0.12319395],\n",
       "       [-0.74778651,  0.35649509, -0.16609367],\n",
       "       [ 1.05084254, -1.3771472 ,  0.51501874],\n",
       "       [-0.76218508, -0.04143812,  0.32885333],\n",
       "       [-0.85377796,  1.30525722,  0.46138274],\n",
       "       [ 0.79119975,  1.23179329,  0.38526098],\n",
       "       [ 0.58509675, -0.16835339,  1.50271112],\n",
       "       [-0.74909326,  0.40355071, -0.53863938],\n",
       "       [-0.32158879,  1.11216604,  1.42831665],\n",
       "       [-0.59523084,  0.28489586,  1.72217946],\n",
       "       [-0.33228945,  1.4636021 ,  1.05224719],\n",
       "       [-0.04837336, -1.28768913, -1.03801781],\n",
       "       [-1.44333425, -1.71704857,  0.35069626],\n",
       "       [ 0.8331959 ,  0.74122791,  1.29945293],\n",
       "       [ 1.15818339,  0.90131402,  1.69166052],\n",
       "       [-0.36093577, -0.4827855 , -0.90472726],\n",
       "       [ 0.2709304 ,  0.63699688,  1.1026083 ],\n",
       "       [ 0.63022667, -1.44792482, -1.36815587],\n",
       "       [ 0.49923329,  0.00418624, -0.18240095],\n",
       "       [ 1.52419364,  1.19717332,  1.04546953],\n",
       "       [-0.0382122 ,  1.16732335,  0.86006693],\n",
       "       [ 0.87994389, -1.35429375,  0.99759864],\n",
       "       [ 1.43581778, -0.79365568, -0.21538949],\n",
       "       [ 0.53038105, -0.25104051, -0.41889554],\n",
       "       [ 1.03526502,  0.78443582, -1.43568966],\n",
       "       [-0.00783277,  1.39695704,  1.29945293],\n",
       "       [-1.50472569, -0.71852874,  0.20289058],\n",
       "       [-0.56887482, -1.92277996, -0.11788987],\n",
       "       [-1.72669682, -1.90334954,  0.00577961],\n",
       "       [ 1.20134779,  0.36830859, -1.41277956],\n",
       "       [ 0.91360226, -0.96064272,  1.22025052],\n",
       "       [ 1.06930594,  0.97946003, -0.11788987],\n",
       "       [ 0.40288531, -0.37921745, -1.83137048],\n",
       "       [ 0.75201155, -0.02181365, -0.9207956 ],\n",
       "       [-0.72433929,  1.41607663,  0.41512911],\n",
       "       [-0.76480878,  0.82192754,  1.09594084],\n",
       "       [ 0.00673953, -0.46028254,  0.00577961],\n",
       "       [-0.74778651, -1.83055994, -0.61831443],\n",
       "       [-0.14637764,  0.92227141,  1.87892616],\n",
       "       [-1.60487761, -0.33590351, -0.16609367],\n",
       "       [ 0.03020546,  0.36240602,  0.87087647],\n",
       "       [-1.61600701,  0.04924266,  1.01820721],\n",
       "       [ 0.89579959, -1.58822992, -0.56482448],\n",
       "       [-0.17634363,  0.8005392 , -0.78891695],\n",
       "       [ 0.95008184,  0.67566908,  1.7442111 ],\n",
       "       [-0.60910057, -0.65359273,  0.02077604],\n",
       "       [-1.84082856,  1.02577993,  1.02504572],\n",
       "       [-0.69844865, -1.98495808, -1.04673537],\n",
       "       [ 0.8590884 ,  1.52012963, -1.70718676],\n",
       "       [-0.97412104, -0.63761079,  0.75718457],\n",
       "       [-2.03323356,  1.06152278, -1.09108448],\n",
       "       [ 1.2946762 , -1.52253007,  0.7534411 ],\n",
       "       [-1.82715302,  0.38596655, -1.88228781],\n",
       "       [ 0.85411524,  0.74122791,  0.83104401],\n",
       "       [-1.30867028,  1.0103861 ,  1.49976669],\n",
       "       [-1.13560137,  1.42561279, -1.10919482],\n",
       "       [-1.49434751,  1.03090107, -1.03801781],\n",
       "       [ 1.37490294,  0.48466558,  1.32128542],\n",
       "       [-1.21460127,  0.30890141, -0.2658475 ],\n",
       "       [ 0.49923329,  1.27598779, -1.95484304],\n",
       "       [-0.78718324, -0.2650278 , -0.75199725],\n",
       "       [ 0.59023843,  0.84322253,  1.78244184],\n",
       "       [ 0.86107685,  0.72492349,  0.55555544],\n",
       "       [-0.39456576, -1.202897  ,  0.41088327],\n",
       "       [-0.49688394, -0.42315979,  0.59549238],\n",
       "       [ 0.01904252, -1.65786243, -1.06432036],\n",
       "       [ 1.05376032, -1.04445327, -1.09108448],\n",
       "       [ 1.08385578,  1.52012963,  0.80172759],\n",
       "       [-1.29143203,  1.09702388, -0.82664429],\n",
       "       [-1.1890052 ,  0.30291327, -0.26018131],\n",
       "       [ 1.44048829, -0.49032576,  0.51910011],\n",
       "       [-0.20066619, -0.94246393,  0.95944652],\n",
       "       [ 0.63022667,  0.15022331, -0.65947105],\n",
       "       [ 0.35634693,  1.06660903,  0.54749686],\n",
       "       [ 0.52934487,  0.01065705, -1.02072873],\n",
       "       [-1.93163495, -0.66967326, -1.39027462],\n",
       "       [-0.52529469,  1.25638925,  1.02162839],\n",
       "       [ 0.12428563, -1.74803521, -0.06036496],\n",
       "       [-1.75555556,  0.92227141,  0.83468776],\n",
       "       [-0.07782712, -0.16835339,  0.41936802],\n",
       "       [ 0.36906953, -0.18883181,  0.24861364],\n",
       "       [-0.62808655,  0.86442562,  0.98031676],\n",
       "       [ 0.5355598 , -0.18883181,  0.00577961],\n",
       "       [ 0.2730788 ,  0.91704026, -1.21299201],\n",
       "       [-0.24495734, -0.43054692, -1.42418272],\n",
       "       [ 0.99913782, -1.46007371,  2.02414625],\n",
       "       [-1.63286723,  0.95873855, -0.20433701],\n",
       "       [ 0.72376009, -1.25539136, -0.32921092],\n",
       "       [ 0.81022423,  0.16886223,  1.25534066],\n",
       "       [ 1.47405264, -0.75163452, -1.31443661],\n",
       "       [-1.11073781, -0.66967326, -0.38855655],\n",
       "       [ 0.28381064, -0.00229617,  0.91372099],\n",
       "       [-1.60118681, -0.05458158, -0.47470116],\n",
       "       [ 0.32550506, -1.06355551, -0.75931882],\n",
       "       [ 0.87994389, -1.46007371, -0.73744518],\n",
       "       [ 1.40493806,  1.51543955,  0.70812926],\n",
       "       [ 1.13411664,  0.55865764, -0.27722588],\n",
       "       [ 0.34466429, -0.99747386,  0.44465771],\n",
       "       [ 1.40306351, -1.60181548, -0.09155822],\n",
       "       [ 0.29559622, -0.80214864, -0.43732278],\n",
       "       [ 0.19855946, -1.56152179, -1.12752759],\n",
       "       [ 0.8411713 , -1.23420066,  0.09434122],\n",
       "       [-1.02181379, -1.202897  ,  0.20289058],\n",
       "       [ 1.50472337,  1.23179329,  1.67770049],\n",
       "       [ 1.18602318,  0.02356422,  0.21669702],\n",
       "       [ 0.70554619,  1.33437513, -0.31754553],\n",
       "       [ 0.01009737, -1.62948287,  0.05539471],\n",
       "       [ 0.56346396,  0.47317073, -0.40063711],\n",
       "       [ 1.48986416, -0.49032576, -1.63644784],\n",
       "       [-1.61787038, -0.62965614, -0.1073197 ],\n",
       "       [-1.26812741,  1.13730782, -1.3791681 ],\n",
       "       [-0.75956316, -0.73502642, -1.3572358 ],\n",
       "       [-1.6461253 , -1.3771472 ,  0.28905461],\n",
       "       [ 0.30843016,  1.18226883, -1.65023317],\n",
       "       [ 0.12318696,  0.85383548, -1.3572358 ],\n",
       "       [-1.28831146, -1.42394128, -0.68743455],\n",
       "       [-0.52157887, -1.28768913, -1.14609038],\n",
       "       [ 0.4165774 , -0.8624742 , -1.31443661],\n",
       "       [ 1.4675349 ,  1.18226883,  1.51739504],\n",
       "       [ 0.97562509, -0.92443675, -1.09108448]])"
      ]
     },
     "execution_count": 32,
     "metadata": {},
     "output_type": "execute_result"
    }
   ],
   "source": [
    "from sklearn.preprocessing import StandardScaler\n",
    "SC=StandardScaler()\n",
    "xtrain=SC.fit_transform(X)\n",
    "xtrain"
   ]
  },
  {
   "cell_type": "code",
   "execution_count": 33,
   "metadata": {},
   "outputs": [],
   "source": [
    "ytrain=y"
   ]
  },
  {
   "cell_type": "markdown",
   "metadata": {},
   "source": [
    "# train_test_split\n"
   ]
  },
  {
   "cell_type": "code",
   "execution_count": 34,
   "metadata": {},
   "outputs": [],
   "source": [
    "from sklearn.linear_model import LinearRegression\n",
    "from sklearn.model_selection import train_test_split\n",
    "from sklearn.metrics import mean_squared_error,r2_score, mean_absolute_error\n",
    "from sklearn.model_selection import train_test_split\n",
    "from sklearn.metrics import r2_score"
   ]
  },
  {
   "cell_type": "code",
   "execution_count": 35,
   "metadata": {},
   "outputs": [
    {
     "name": "stdout",
     "output_type": "stream",
     "text": [
      "r2score at random state 0 is 0.96166861872775\n",
      "error:\n",
      "Mean absolute error : 0.8800000000000002\n",
      "Mean squared error : 1.1270000000000004\n",
      "Root mean Squared Error : 1.0616025621672174\n",
      "r2score at random state 1 is 0.9446722166199264\n",
      "error:\n",
      "Mean absolute error : 0.9366666666666668\n",
      "Mean squared error : 1.5033333333333334\n",
      "Root mean Squared Error : 1.226104943849968\n",
      "r2score at random state 2 is 0.9373295799605216\n",
      "error:\n",
      "Mean absolute error : 1.0799999999999998\n",
      "Mean squared error : 1.9239999999999997\n",
      "Root mean Squared Error : 1.387083270751976\n",
      "r2score at random state 3 is 0.9522208865169486\n",
      "error:\n",
      "Mean absolute error : 0.9600000000000002\n",
      "Mean squared error : 1.5773333333333333\n",
      "Root mean Squared Error : 1.2559193180030845\n",
      "r2score at random state 4 is 0.9542886568252393\n",
      "error:\n",
      "Mean absolute error : 0.7083333333333334\n",
      "Mean squared error : 0.9498333333333334\n",
      "Root mean Squared Error : 0.9745939325346394\n",
      "r2score at random state 5 is 0.9618098893364724\n",
      "error:\n",
      "Mean absolute error : 0.7483333333333334\n",
      "Mean squared error : 0.9425000000000002\n",
      "Root mean Squared Error : 0.97082439194738\n",
      "r2score at random state 6 is 0.9616455737035086\n",
      "error:\n",
      "Mean absolute error : 0.8133333333333332\n",
      "Mean squared error : 1.1889999999999998\n",
      "Root mean Squared Error : 1.0904127658827183\n",
      "r2score at random state 7 is 0.9372687181664022\n",
      "error:\n",
      "Mean absolute error : 0.89\n",
      "Mean squared error : 1.5993333333333333\n",
      "Root mean Squared Error : 1.2646475134729571\n",
      "r2score at random state 8 is 0.9451614313779996\n",
      "error:\n",
      "Mean absolute error : 0.9366666666666668\n",
      "Mean squared error : 1.5606666666666666\n",
      "Root mean Squared Error : 1.2492664514292644\n",
      "r2score at random state 9 is 0.9061177929282445\n",
      "error:\n",
      "Mean absolute error : 1.085\n",
      "Mean squared error : 2.7851666666666675\n",
      "Root mean Squared Error : 1.6688818612072778\n",
      "r2score at random state 10 is 0.9563502125889244\n",
      "error:\n",
      "Mean absolute error : 0.7683333333333333\n",
      "Mean squared error : 1.2628333333333335\n",
      "Root mean Squared Error : 1.12375857430915\n",
      "r2score at random state 11 is 0.9428183147478361\n",
      "error:\n",
      "Mean absolute error : 0.995\n",
      "Mean squared error : 1.6985000000000001\n",
      "Root mean Squared Error : 1.3032651303552936\n",
      "r2score at random state 12 is 0.9281173677773746\n",
      "error:\n",
      "Mean absolute error : 1.0016666666666665\n",
      "Mean squared error : 1.9611666666666658\n",
      "Root mean Squared Error : 1.4004166046811448\n",
      "r2score at random state 13 is 0.9434069954379578\n",
      "error:\n",
      "Mean absolute error : 0.8316666666666669\n",
      "Mean squared error : 1.3674999999999997\n",
      "Root mean Squared Error : 1.1694015563526499\n",
      "r2score at random state 14 is 0.9590584982708886\n",
      "error:\n",
      "Mean absolute error : 0.9016666666666666\n",
      "Mean squared error : 1.3545\n",
      "Root mean Squared Error : 1.1638298844762494\n",
      "r2score at random state 15 is 0.9040538202918805\n",
      "error:\n",
      "Mean absolute error : 1.1849999999999998\n",
      "Mean squared error : 2.3341666666666674\n",
      "Root mean Squared Error : 1.5277979796644148\n",
      "r2score at random state 16 is 0.9603196995462676\n",
      "error:\n",
      "Mean absolute error : 0.7599999999999999\n",
      "Mean squared error : 0.9903333333333332\n",
      "Root mean Squared Error : 0.9951549293116791\n",
      "r2score at random state 17 is 0.9655004358480822\n",
      "error:\n",
      "Mean absolute error : 0.7683333333333332\n",
      "Mean squared error : 1.0148333333333333\n",
      "Root mean Squared Error : 1.0073893653068475\n",
      "r2score at random state 18 is 0.8933324158867684\n",
      "error:\n",
      "Mean absolute error : 1.2116666666666664\n",
      "Mean squared error : 2.8765\n",
      "Root mean Squared Error : 1.6960247639701491\n",
      "r2score at random state 19 is 0.9552136696668438\n",
      "error:\n",
      "Mean absolute error : 0.7983333333333333\n",
      "Mean squared error : 1.1041666666666663\n",
      "Root mean Squared Error : 1.0507933510765408\n",
      "r2score at random state 20 is 0.9541919280467341\n",
      "error:\n",
      "Mean absolute error : 0.9166666666666666\n",
      "Mean squared error : 1.6169999999999995\n",
      "Root mean Squared Error : 1.2716131487209463\n",
      "r2score at random state 21 is 0.9622411646075748\n",
      "error:\n",
      "Mean absolute error : 0.7916666666666665\n",
      "Mean squared error : 1.0604999999999998\n",
      "Root mean Squared Error : 1.029805806936434\n",
      "r2score at random state 22 is 0.9503908166017625\n",
      "error:\n",
      "Mean absolute error : 0.7949999999999999\n",
      "Mean squared error : 1.1484999999999996\n",
      "Root mean Squared Error : 1.0716809226630843\n",
      "r2score at random state 23 is 0.9518095140347512\n",
      "error:\n",
      "Mean absolute error : 0.9650000000000003\n",
      "Mean squared error : 1.3381666666666672\n",
      "Root mean Squared Error : 1.156791539849193\n",
      "r2score at random state 24 is 0.9477929099021422\n",
      "error:\n",
      "Mean absolute error : 0.8783333333333333\n",
      "Mean squared error : 1.3225\n",
      "Root mean Squared Error : 1.15\n",
      "r2score at random state 25 is 0.9431883695876877\n",
      "error:\n",
      "Mean absolute error : 0.9433333333333334\n",
      "Mean squared error : 1.4603333333333335\n",
      "Root mean Squared Error : 1.2084425238021597\n",
      "r2score at random state 26 is 0.9041987194630843\n",
      "error:\n",
      "Mean absolute error : 1.0883333333333338\n",
      "Mean squared error : 1.9375000000000004\n",
      "Root mean Squared Error : 1.3919410907075056\n",
      "r2score at random state 27 is 0.9243274162608358\n",
      "error:\n",
      "Mean absolute error : 0.9883333333333335\n",
      "Mean squared error : 2.3945000000000003\n",
      "Root mean Squared Error : 1.5474172029546525\n",
      "r2score at random state 28 is 0.9414860429247426\n",
      "error:\n",
      "Mean absolute error : 0.9683333333333333\n",
      "Mean squared error : 1.4564999999999997\n",
      "Root mean Squared Error : 1.2068554180182478\n",
      "r2score at random state 29 is 0.93012933354463\n",
      "error:\n",
      "Mean absolute error : 1.025\n",
      "Mean squared error : 2.039166666666667\n",
      "Root mean Squared Error : 1.4279939308927987\n",
      "r2score at random state 30 is 0.961270634729317\n",
      "error:\n",
      "Mean absolute error : 0.7733333333333334\n",
      "Mean squared error : 1.1050000000000002\n",
      "Root mean Squared Error : 1.051189802081432\n",
      "r2score at random state 31 is 0.927041539533431\n",
      "error:\n",
      "Mean absolute error : 1.0083333333333333\n",
      "Mean squared error : 2.0245\n",
      "Root mean Squared Error : 1.4228492541376265\n",
      "r2score at random state 32 is 0.95447565197792\n",
      "error:\n",
      "Mean absolute error : 0.8583333333333335\n",
      "Mean squared error : 1.412166666666667\n",
      "Root mean Squared Error : 1.188346189738776\n",
      "r2score at random state 33 is 0.9603721552149286\n",
      "error:\n",
      "Mean absolute error : 0.8233333333333336\n",
      "Mean squared error : 1.087666666666667\n",
      "Root mean Squared Error : 1.0429125882194858\n",
      "r2score at random state 34 is 0.9617408470388439\n",
      "error:\n",
      "Mean absolute error : 0.895\n",
      "Mean squared error : 1.1281666666666665\n",
      "Root mean Squared Error : 1.0621519037626712\n",
      "r2score at random state 35 is 0.9538410006290695\n",
      "error:\n",
      "Mean absolute error : 0.8233333333333334\n",
      "Mean squared error : 1.1300000000000001\n",
      "Root mean Squared Error : 1.063014581273465\n",
      "r2score at random state 36 is 0.9653603496591731\n",
      "error:\n",
      "Mean absolute error : 0.845\n",
      "Mean squared error : 1.1195\n",
      "Root mean Squared Error : 1.0580642702596095\n",
      "r2score at random state 37 is 0.9350845760877852\n",
      "error:\n",
      "Mean absolute error : 0.8933333333333332\n",
      "Mean squared error : 1.2513333333333334\n",
      "Root mean Squared Error : 1.118630114619365\n",
      "r2score at random state 38 is 0.9619699986352117\n",
      "error:\n",
      "Mean absolute error : 0.7133333333333334\n",
      "Mean squared error : 0.8723333333333331\n",
      "Root mean Squared Error : 0.933987865731313\n",
      "r2score at random state 39 is 0.9538941734024552\n",
      "error:\n",
      "Mean absolute error : 0.901666666666667\n",
      "Mean squared error : 1.4248333333333336\n",
      "Root mean Squared Error : 1.1936638276052993\n",
      "r2score at random state 40 is 0.9302242486213954\n",
      "error:\n",
      "Mean absolute error : 0.9433333333333335\n",
      "Mean squared error : 1.7656666666666672\n",
      "Root mean Squared Error : 1.3287839051804726\n",
      "r2score at random state 41 is 0.9445314170527692\n",
      "error:\n",
      "Mean absolute error : 1.0050000000000001\n",
      "Mean squared error : 1.7041666666666673\n",
      "Root mean Squared Error : 1.3054373468943912\n",
      "r2score at random state 42 is 0.9504018869370038\n",
      "error:\n",
      "Mean absolute error : 0.9400000000000001\n",
      "Mean squared error : 1.3523333333333336\n",
      "Root mean Squared Error : 1.1628986771569283\n",
      "r2score at random state 43 is 0.9605782399149233\n",
      "error:\n",
      "Mean absolute error : 0.8583333333333333\n",
      "Mean squared error : 1.1335\n",
      "Root mean Squared Error : 1.0646595700034824\n",
      "r2score at random state 44 is 0.9124819892441107\n",
      "error:\n",
      "Mean absolute error : 0.9150000000000001\n",
      "Mean squared error : 1.3678333333333335\n",
      "Root mean Squared Error : 1.1695440707101779\n",
      "r2score at random state 45 is 0.9417392137748518\n",
      "error:\n",
      "Mean absolute error : 0.9150000000000001\n",
      "Mean squared error : 1.5281666666666667\n",
      "Root mean Squared Error : 1.2361903844742794\n",
      "r2score at random state 46 is 0.9508768106157668\n",
      "error:\n",
      "Mean absolute error : 0.8683333333333334\n",
      "Mean squared error : 1.2571666666666668\n",
      "Root mean Squared Error : 1.1212344387623254\n",
      "r2score at random state 47 is 0.9567456357904301\n",
      "error:\n",
      "Mean absolute error : 0.8016666666666663\n",
      "Mean squared error : 1.0504999999999995\n",
      "Root mean Squared Error : 1.024939022576465\n",
      "r2score at random state 48 is 0.9637990169948865\n",
      "error:\n",
      "Mean absolute error : 0.6833333333333333\n",
      "Mean squared error : 0.8753333333333336\n",
      "Root mean Squared Error : 0.9355925038890242\n",
      "r2score at random state 49 is 0.9366630604060618\n",
      "error:\n",
      "Mean absolute error : 0.9099999999999999\n",
      "Mean squared error : 1.788666666666667\n",
      "Root mean Squared Error : 1.33741043313811\n",
      "r2score at random state 50 is 0.9293898476838902\n",
      "error:\n",
      "Mean absolute error : 0.8566666666666668\n",
      "Mean squared error : 1.4756666666666665\n",
      "Root mean Squared Error : 1.2147702114666241\n",
      "r2score at random state 51 is 0.9481201349768015\n",
      "error:\n",
      "Mean absolute error : 0.9083333333333333\n",
      "Mean squared error : 1.2608333333333337\n",
      "Root mean Squared Error : 1.122868350846765\n",
      "r2score at random state 52 is 0.9600930089226933\n",
      "error:\n",
      "Mean absolute error : 0.756666666666667\n",
      "Mean squared error : 0.949666666666667\n",
      "Root mean Squared Error : 0.9745084230865667\n",
      "r2score at random state 53 is 0.940303217295587\n",
      "error:\n",
      "Mean absolute error : 0.9016666666666667\n",
      "Mean squared error : 1.7004999999999997\n",
      "Root mean Squared Error : 1.3040322081911933\n",
      "r2score at random state 54 is 0.9697205479325668\n",
      "error:\n",
      "Mean absolute error : 0.7483333333333334\n",
      "Mean squared error : 0.8751666666666669\n",
      "Root mean Squared Error : 0.9355034295322849\n",
      "r2score at random state 55 is 0.9721237079925693\n",
      "error:\n",
      "Mean absolute error : 0.7383333333333333\n",
      "Mean squared error : 0.8164999999999999\n",
      "Root mean Squared Error : 0.903603895520598\n",
      "r2score at random state 56 is 0.9535100937376758\n",
      "error:\n",
      "Mean absolute error : 0.9566666666666669\n",
      "Mean squared error : 1.3546666666666665\n",
      "Root mean Squared Error : 1.163901484949077\n",
      "r2score at random state 57 is 0.9478285356864236\n",
      "error:\n",
      "Mean absolute error : 0.9099999999999997\n",
      "Mean squared error : 1.4543333333333335\n",
      "Root mean Squared Error : 1.2059574342958101\n",
      "r2score at random state 58 is 0.9619895074457622\n",
      "error:\n",
      "Mean absolute error : 0.7983333333333335\n",
      "Mean squared error : 1.1511666666666671\n",
      "Root mean Squared Error : 1.072924352723279\n",
      "r2score at random state 59 is 0.9694999146468524\n",
      "error:\n",
      "Mean absolute error : 0.7066666666666668\n",
      "Mean squared error : 0.8059999999999998\n",
      "Root mean Squared Error : 0.8977750274985375\n",
      "r2score at random state 60 is 0.9649111078168343\n",
      "error:\n",
      "Mean absolute error : 0.8750000000000002\n",
      "Mean squared error : 1.2071666666666674\n",
      "Root mean Squared Error : 1.098711366404602\n",
      "r2score at random state 61 is 0.9671315949771092\n",
      "error:\n",
      "Mean absolute error : 0.7033333333333336\n",
      "Mean squared error : 0.7786666666666672\n",
      "Root mean Squared Error : 0.8824209124146295\n",
      "r2score at random state 62 is 0.940781616516717\n",
      "error:\n",
      "Mean absolute error : 0.786666666666667\n",
      "Mean squared error : 1.0743333333333338\n",
      "Root mean Squared Error : 1.036500522591925\n",
      "r2score at random state 63 is 0.9631505036833883\n",
      "error:\n",
      "Mean absolute error : 0.7450000000000003\n",
      "Mean squared error : 0.9178333333333336\n",
      "Root mean Squared Error : 0.9580361858162423\n",
      "r2score at random state 64 is 0.9077601492872462\n",
      "error:\n",
      "Mean absolute error : 1.1516666666666668\n",
      "Mean squared error : 2.3825000000000003\n",
      "Root mean Squared Error : 1.5435349040433133\n",
      "r2score at random state 65 is 0.953899095205218\n",
      "error:\n",
      "Mean absolute error : 0.9166666666666666\n",
      "Mean squared error : 1.2900000000000003\n",
      "Root mean Squared Error : 1.1357816691600549\n",
      "r2score at random state 66 is 0.9619659125181983\n",
      "error:\n",
      "Mean absolute error : 0.8416666666666665\n",
      "Mean squared error : 1.1184999999999996\n",
      "Root mean Squared Error : 1.0575916035975321\n",
      "r2score at random state 67 is 0.9247808037401792\n",
      "error:\n",
      "Mean absolute error : 1.0699999999999998\n",
      "Mean squared error : 2.083333333333333\n",
      "Root mean Squared Error : 1.4433756729740643\n",
      "r2score at random state 68 is 0.9271415522968437\n",
      "error:\n",
      "Mean absolute error : 0.8949999999999998\n",
      "Mean squared error : 1.6538333333333324\n",
      "Root mean Squared Error : 1.28601451521098\n",
      "r2score at random state 69 is 0.9638135619365541\n",
      "error:\n",
      "Mean absolute error : 0.7133333333333334\n",
      "Mean squared error : 0.9676666666666667\n",
      "Root mean Squared Error : 0.9837004964249366\n",
      "r2score at random state 70 is 0.9530799061598123\n",
      "error:\n",
      "Mean absolute error : 0.9\n",
      "Mean squared error : 1.3033333333333332\n",
      "Root mean Squared Error : 1.1416362526362471\n",
      "r2score at random state 71 is 0.9423822581692793\n",
      "error:\n",
      "Mean absolute error : 0.8083333333333332\n",
      "Mean squared error : 1.3601666666666665\n",
      "Root mean Squared Error : 1.1662618345237343\n",
      "r2score at random state 72 is 0.9578953793617541\n",
      "error:\n",
      "Mean absolute error : 0.85\n",
      "Mean squared error : 1.1189999999999996\n",
      "Root mean Squared Error : 1.057827963328631\n",
      "r2score at random state 73 is 0.9142064536115221\n",
      "error:\n",
      "Mean absolute error : 1.21\n",
      "Mean squared error : 2.3063333333333325\n",
      "Root mean Squared Error : 1.518661691534139\n",
      "r2score at random state 74 is 0.9491812451215352\n",
      "error:\n",
      "Mean absolute error : 0.9749999999999999\n",
      "Mean squared error : 1.7064999999999995\n",
      "Root mean Squared Error : 1.3063307391315568\n",
      "r2score at random state 75 is 0.9461184376127058\n",
      "error:\n",
      "Mean absolute error : 0.895\n",
      "Mean squared error : 1.2611666666666665\n",
      "Root mean Squared Error : 1.1230167704298393\n",
      "r2score at random state 76 is 0.9448831133960517\n",
      "error:\n",
      "Mean absolute error : 0.9266666666666665\n",
      "Mean squared error : 1.3319999999999999\n",
      "Root mean Squared Error : 1.1541230437002805\n",
      "r2score at random state 77 is 0.96215570592378\n",
      "error:\n",
      "Mean absolute error : 0.766666666666667\n",
      "Mean squared error : 0.978\n",
      "Root mean Squared Error : 0.9889388252060892\n",
      "r2score at random state 78 is 0.9186342515300454\n",
      "error:\n",
      "Mean absolute error : 0.9150000000000001\n",
      "Mean squared error : 1.4451666666666665\n",
      "Root mean Squared Error : 1.2021508502125124\n",
      "r2score at random state 79 is 0.9358496400891786\n",
      "error:\n",
      "Mean absolute error : 0.9316666666666664\n",
      "Mean squared error : 1.5938333333333323\n",
      "Root mean Squared Error : 1.262471121781933\n",
      "r2score at random state 80 is 0.9434758069744456\n",
      "error:\n",
      "Mean absolute error : 1.0333333333333334\n",
      "Mean squared error : 1.5959999999999999\n",
      "Root mean Squared Error : 1.2633289357883004\n",
      "r2score at random state 81 is 0.9731576911624695\n",
      "error:\n",
      "Mean absolute error : 0.6783333333333332\n",
      "Mean squared error : 0.7101666666666665\n",
      "Root mean Squared Error : 0.8427138699859321\n",
      "r2score at random state 82 is 0.9478182606807283\n",
      "error:\n",
      "Mean absolute error : 0.8516666666666668\n",
      "Mean squared error : 1.2475000000000003\n",
      "Root mean Squared Error : 1.116915395184434\n",
      "r2score at random state 83 is 0.9586688277549265\n",
      "error:\n",
      "Mean absolute error : 0.8466666666666668\n",
      "Mean squared error : 1.4379999999999997\n",
      "Root mean Squared Error : 1.1991663771137013\n",
      "r2score at random state 84 is 0.9585373197129701\n",
      "error:\n",
      "Mean absolute error : 0.8616666666666667\n",
      "Mean squared error : 1.2038333333333333\n",
      "Root mean Squared Error : 1.0971933892132841\n",
      "r2score at random state 85 is 0.9340313589739889\n",
      "error:\n",
      "Mean absolute error : 0.8483333333333334\n",
      "Mean squared error : 1.4855000000000005\n",
      "Root mean Squared Error : 1.2188108959145387\n",
      "r2score at random state 86 is 0.9228364051410245\n",
      "error:\n",
      "Mean absolute error : 1.1133333333333333\n",
      "Mean squared error : 2.1333333333333337\n",
      "Root mean Squared Error : 1.460593486680443\n",
      "r2score at random state 87 is 0.9527042448786988\n",
      "error:\n",
      "Mean absolute error : 0.9133333333333334\n",
      "Mean squared error : 1.3653333333333335\n",
      "Root mean Squared Error : 1.1684747893443546\n",
      "r2score at random state 88 is 0.9103976760438646\n",
      "error:\n",
      "Mean absolute error : 1.0533333333333332\n",
      "Mean squared error : 2.3003333333333327\n",
      "Root mean Squared Error : 1.5166849815743981\n",
      "r2score at random state 89 is 0.9376104405134482\n",
      "error:\n",
      "Mean absolute error : 0.9833333333333336\n",
      "Mean squared error : 1.5323333333333338\n",
      "Root mean Squared Error : 1.2378745224510173\n",
      "r2score at random state 90 is 0.9618167465611377\n",
      "error:\n",
      "Mean absolute error : 0.7366666666666666\n",
      "Mean squared error : 0.9399999999999995\n",
      "Root mean Squared Error : 0.9695359714832655\n",
      "r2score at random state 91 is 0.9581140690619299\n",
      "error:\n",
      "Mean absolute error : 0.8516666666666665\n",
      "Mean squared error : 1.0431666666666666\n",
      "Root mean Squared Error : 1.0213553087279013\n",
      "r2score at random state 92 is 0.9608825693017814\n",
      "error:\n",
      "Mean absolute error : 0.8483333333333333\n",
      "Mean squared error : 1.218166666666667\n",
      "Root mean Squared Error : 1.1037058786953466\n",
      "r2score at random state 93 is 0.9447395115102927\n",
      "error:\n",
      "Mean absolute error : 0.9100000000000004\n",
      "Mean squared error : 1.5290000000000004\n",
      "Root mean Squared Error : 1.2365273955719704\n",
      "r2score at random state 94 is 0.9608414203300388\n",
      "error:\n",
      "Mean absolute error : 0.9316666666666668\n",
      "Mean squared error : 1.1675000000000004\n",
      "Root mean Squared Error : 1.0805091392487156\n",
      "r2score at random state 95 is 0.924737099813389\n",
      "error:\n",
      "Mean absolute error : 1.0233333333333337\n",
      "Mean squared error : 2.0686666666666667\n",
      "Root mean Squared Error : 1.4382860169892033\n",
      "r2score at random state 96 is 0.955901014201494\n",
      "error:\n",
      "Mean absolute error : 0.875\n",
      "Mean squared error : 1.1731666666666667\n",
      "Root mean Squared Error : 1.0831281857041053\n",
      "r2score at random state 97 is 0.9006413548711966\n",
      "error:\n",
      "Mean absolute error : 1.1883333333333335\n",
      "Mean squared error : 2.6358333333333346\n",
      "Root mean Squared Error : 1.6235249715767648\n",
      "r2score at random state 98 is 0.9450375904401163\n",
      "error:\n",
      "Mean absolute error : 0.92\n",
      "Mean squared error : 1.6806666666666665\n",
      "Root mean Squared Error : 1.2964052864234497\n",
      "r2score at random state 99 is 0.9420737215775243\n",
      "error:\n",
      "Mean absolute error : 1.008333333333333\n",
      "Mean squared error : 1.6751666666666665\n",
      "Root mean Squared Error : 1.2942822979036168\n",
      "r2score at random state 100 is 0.9306914534174405\n",
      "error:\n",
      "Mean absolute error : 0.9583333333333331\n",
      "Mean squared error : 2.014833333333333\n",
      "Root mean Squared Error : 1.4194482496143819\n",
      "r2score at random state 101 is 0.950521161743822\n",
      "error:\n",
      "Mean absolute error : 0.9300000000000003\n",
      "Mean squared error : 1.3786666666666672\n",
      "Root mean Squared Error : 1.1741663709486263\n",
      "r2score at random state 102 is 0.9497999402774878\n",
      "error:\n",
      "Mean absolute error : 0.9450000000000001\n",
      "Mean squared error : 1.564833333333333\n",
      "Root mean Squared Error : 1.250932985148818\n",
      "r2score at random state 103 is 0.9403906896427672\n",
      "error:\n",
      "Mean absolute error : 1.0266666666666666\n",
      "Mean squared error : 1.726\n",
      "Root mean Squared Error : 1.3137731919931994\n",
      "r2score at random state 104 is 0.9302251062130527\n",
      "error:\n",
      "Mean absolute error : 1.0883333333333334\n",
      "Mean squared error : 2.0341666666666667\n",
      "Root mean Squared Error : 1.4262421486783605\n",
      "r2score at random state 105 is 0.9314520108629961\n",
      "error:\n",
      "Mean absolute error : 0.8666666666666668\n",
      "Mean squared error : 1.3736666666666664\n",
      "Root mean Squared Error : 1.172035266818651\n",
      "r2score at random state 106 is 0.9536783188710932\n",
      "error:\n",
      "Mean absolute error : 0.8983333333333332\n",
      "Mean squared error : 1.2308333333333332\n",
      "Root mean Squared Error : 1.1094292827095078\n",
      "r2score at random state 107 is 0.9663059831021862\n",
      "error:\n",
      "Mean absolute error : 0.8150000000000001\n",
      "Mean squared error : 1.0021666666666667\n",
      "Root mean Squared Error : 1.0010827471626242\n",
      "r2score at random state 108 is 0.9498493909642597\n",
      "error:\n",
      "Mean absolute error : 0.9366666666666668\n",
      "Mean squared error : 1.3203333333333338\n",
      "Root mean Squared Error : 1.1490575848639326\n",
      "r2score at random state 109 is 0.954685903410286\n",
      "error:\n",
      "Mean absolute error : 0.925\n",
      "Mean squared error : 1.278166666666667\n",
      "Root mean Squared Error : 1.1305603330502387\n",
      "r2score at random state 110 is 0.9412541005987171\n",
      "error:\n",
      "Mean absolute error : 0.9416666666666667\n",
      "Mean squared error : 1.6495\n",
      "Root mean Squared Error : 1.28432861838394\n",
      "r2score at random state 111 is 0.9592787042092226\n",
      "error:\n",
      "Mean absolute error : 0.8483333333333334\n",
      "Mean squared error : 1.210166666666667\n",
      "Root mean Squared Error : 1.1000757549672056\n",
      "r2score at random state 112 is 0.9441710235120173\n",
      "error:\n",
      "Mean absolute error : 0.9583333333333334\n",
      "Mean squared error : 1.4525000000000001\n",
      "Root mean Squared Error : 1.2051970793193951\n",
      "r2score at random state 113 is 0.9440303654712761\n",
      "error:\n",
      "Mean absolute error : 0.925\n",
      "Mean squared error : 1.403166666666667\n",
      "Root mean Squared Error : 1.1845533616796953\n",
      "r2score at random state 114 is 0.9593639242670414\n",
      "error:\n",
      "Mean absolute error : 0.8516666666666667\n",
      "Mean squared error : 1.1488333333333334\n",
      "Root mean Squared Error : 1.0718364303070378\n",
      "r2score at random state 115 is 0.9642525435766838\n",
      "error:\n",
      "Mean absolute error : 0.7733333333333337\n",
      "Mean squared error : 0.9960000000000004\n",
      "Root mean Squared Error : 0.9979979959899722\n",
      "r2score at random state 116 is 0.9268555071283382\n",
      "error:\n",
      "Mean absolute error : 1.0033333333333334\n",
      "Mean squared error : 1.8193333333333332\n",
      "Root mean Squared Error : 1.3488266505868474\n",
      "r2score at random state 117 is 0.9525822710703795\n",
      "error:\n",
      "Mean absolute error : 0.7600000000000001\n",
      "Mean squared error : 1.0853333333333333\n",
      "Root mean Squared Error : 1.0417933256329364\n",
      "r2score at random state 118 is 0.9131491488025807\n",
      "error:\n",
      "Mean absolute error : 1.0083333333333335\n",
      "Mean squared error : 2.107166666666667\n",
      "Root mean Squared Error : 1.4516083034574676\n",
      "r2score at random state 119 is 0.9550646271959647\n",
      "error:\n",
      "Mean absolute error : 0.8999999999999996\n",
      "Mean squared error : 1.2923333333333322\n",
      "Root mean Squared Error : 1.1368083978108765\n",
      "r2score at random state 120 is 0.8698550645269323\n",
      "error:\n",
      "Mean absolute error : 1.146666666666667\n",
      "Mean squared error : 3.432666666666667\n",
      "Root mean Squared Error : 1.8527457102005842\n",
      "r2score at random state 121 is 0.945220399794977\n",
      "error:\n",
      "Mean absolute error : 0.8900000000000001\n",
      "Mean squared error : 1.3110000000000002\n",
      "Root mean Squared Error : 1.1449890829173874\n",
      "r2score at random state 122 is 0.9560721973779084\n",
      "error:\n",
      "Mean absolute error : 0.8366666666666667\n",
      "Mean squared error : 1.1216666666666668\n",
      "Root mean Squared Error : 1.059087657687817\n",
      "r2score at random state 123 is 0.9488389708924517\n",
      "error:\n",
      "Mean absolute error : 0.8466666666666668\n",
      "Mean squared error : 1.1046666666666667\n",
      "Root mean Squared Error : 1.0510312396245254\n",
      "r2score at random state 124 is 0.9563202551310986\n",
      "error:\n",
      "Mean absolute error : 0.9\n",
      "Mean squared error : 1.3790000000000007\n",
      "Root mean Squared Error : 1.1743083070471743\n",
      "r2score at random state 125 is 0.9433872186812113\n",
      "error:\n",
      "Mean absolute error : 0.94\n",
      "Mean squared error : 1.562333333333333\n",
      "Root mean Squared Error : 1.2499333315554606\n",
      "r2score at random state 126 is 0.9176569771751097\n",
      "error:\n",
      "Mean absolute error : 1.095\n",
      "Mean squared error : 2.0275000000000003\n",
      "Root mean Squared Error : 1.4239030865898143\n",
      "r2score at random state 127 is 0.9643386155275475\n",
      "error:\n",
      "Mean absolute error : 0.7883333333333332\n",
      "Mean squared error : 0.9041666666666666\n",
      "Root mean Squared Error : 0.9508767883730608\n",
      "r2score at random state 128 is 0.93006837581509\n",
      "error:\n",
      "Mean absolute error : 1.1616666666666666\n",
      "Mean squared error : 2.0451666666666664\n",
      "Root mean Squared Error : 1.4300932370536776\n",
      "r2score at random state 129 is 0.9480480702364945\n",
      "error:\n",
      "Mean absolute error : 0.8500000000000001\n",
      "Mean squared error : 1.1386666666666672\n",
      "Root mean Squared Error : 1.067083251984899\n",
      "r2score at random state 130 is 0.9494015668280172\n",
      "error:\n",
      "Mean absolute error : 0.9116666666666668\n",
      "Mean squared error : 1.3521666666666674\n",
      "Root mean Squared Error : 1.1628270149367306\n",
      "r2score at random state 131 is 0.9409075622533629\n",
      "error:\n",
      "Mean absolute error : 0.9316666666666666\n",
      "Mean squared error : 1.3725\n",
      "Root mean Squared Error : 1.1715374513859982\n",
      "r2score at random state 132 is 0.9663039359398057\n",
      "error:\n",
      "Mean absolute error : 0.6866666666666666\n",
      "Mean squared error : 0.8049999999999999\n",
      "Root mean Squared Error : 0.897217922246318\n",
      "r2score at random state 133 is 0.943807215842487\n",
      "error:\n",
      "Mean absolute error : 0.8933333333333331\n",
      "Mean squared error : 1.5133333333333332\n",
      "Root mean Squared Error : 1.230176139149729\n",
      "r2score at random state 134 is 0.9616157323641584\n",
      "error:\n",
      "Mean absolute error : 0.7866666666666665\n",
      "Mean squared error : 1.1596666666666668\n",
      "Root mean Squared Error : 1.0768782041933371\n",
      "r2score at random state 135 is 0.935934971414657\n",
      "error:\n",
      "Mean absolute error : 0.9616666666666667\n",
      "Mean squared error : 1.7028333333333336\n",
      "Root mean Squared Error : 1.3049265624292172\n",
      "r2score at random state 136 is 0.957342753722644\n",
      "error:\n",
      "Mean absolute error : 0.9216666666666666\n",
      "Mean squared error : 1.2371666666666663\n",
      "Root mean Squared Error : 1.1122799407822952\n",
      "r2score at random state 137 is 0.9646597129980788\n",
      "error:\n",
      "Mean absolute error : 0.7016666666666665\n",
      "Mean squared error : 0.8381666666666665\n",
      "Root mean Squared Error : 0.915514427339442\n",
      "r2score at random state 138 is 0.9435854978371405\n",
      "error:\n",
      "Mean absolute error : 0.8683333333333331\n",
      "Mean squared error : 1.3421666666666663\n",
      "Root mean Squared Error : 1.1585191697450095\n",
      "r2score at random state 139 is 0.9569899224816865\n",
      "error:\n",
      "Mean absolute error : 0.9549999999999998\n",
      "Mean squared error : 1.4764999999999995\n",
      "Root mean Squared Error : 1.2151131634543342\n",
      "r2score at random state 140 is 0.9656835462501164\n",
      "error:\n",
      "Mean absolute error : 0.67\n",
      "Mean squared error : 0.8803333333333334\n",
      "Root mean Squared Error : 0.9382608024069499\n",
      "r2score at random state 141 is 0.9643361329160421\n",
      "error:\n",
      "Mean absolute error : 0.7599999999999999\n",
      "Mean squared error : 0.9203333333333332\n",
      "Root mean Squared Error : 0.9593400509377961\n",
      "r2score at random state 142 is 0.9375839242068467\n",
      "error:\n",
      "Mean absolute error : 1.0583333333333333\n",
      "Mean squared error : 2.000166666666666\n",
      "Root mean Squared Error : 1.4142724867106289\n",
      "r2score at random state 143 is 0.9372383061068718\n",
      "error:\n",
      "Mean absolute error : 0.9233333333333333\n",
      "Mean squared error : 1.3996666666666664\n",
      "Root mean Squared Error : 1.1830750891920032\n",
      "r2score at random state 144 is 0.9554491208398046\n",
      "error:\n",
      "Mean absolute error : 0.7933333333333331\n",
      "Mean squared error : 1.0833333333333333\n",
      "Root mean Squared Error : 1.0408329997330663\n",
      "r2score at random state 145 is 0.9665244691667397\n",
      "error:\n",
      "Mean absolute error : 0.8116666666666664\n",
      "Mean squared error : 0.9888333333333331\n",
      "Root mean Squared Error : 0.994400992222621\n",
      "r2score at random state 146 is 0.9320884848597938\n",
      "error:\n",
      "Mean absolute error : 0.95\n",
      "Mean squared error : 1.476\n",
      "Root mean Squared Error : 1.2149074038789953\n",
      "r2score at random state 147 is 0.9630927865291259\n",
      "error:\n",
      "Mean absolute error : 0.7033333333333331\n",
      "Mean squared error : 0.9506666666666668\n",
      "Root mean Squared Error : 0.9750213672872338\n",
      "r2score at random state 148 is 0.9770675772118254\n",
      "error:\n",
      "Mean absolute error : 0.5983333333333333\n",
      "Mean squared error : 0.6315000000000002\n",
      "Root mean Squared Error : 0.7946697427233531\n",
      "r2score at random state 149 is 0.942893002593536\n",
      "error:\n",
      "Mean absolute error : 1.0333333333333334\n",
      "Mean squared error : 1.728\n",
      "Root mean Squared Error : 1.3145341380123987\n",
      "r2score at random state 150 is 0.9279697857715781\n",
      "error:\n",
      "Mean absolute error : 1.0433333333333334\n",
      "Mean squared error : 1.9726666666666663\n",
      "Root mean Squared Error : 1.4045165241700315\n",
      "r2score at random state 151 is 0.959215929514365\n",
      "error:\n",
      "Mean absolute error : 0.8383333333333334\n",
      "Mean squared error : 1.0915000000000004\n",
      "Root mean Squared Error : 1.0447487736293355\n",
      "r2score at random state 152 is 0.9576266953464699\n",
      "error:\n",
      "Mean absolute error : 0.7883333333333336\n",
      "Mean squared error : 1.0015\n",
      "Root mean Squared Error : 1.00074971896074\n",
      "r2score at random state 153 is 0.9267274715066528\n",
      "error:\n",
      "Mean absolute error : 0.9533333333333336\n",
      "Mean squared error : 2.2243333333333344\n",
      "Root mean Squared Error : 1.491419905101623\n",
      "r2score at random state 154 is 0.9407535596088081\n",
      "error:\n",
      "Mean absolute error : 0.9733333333333332\n",
      "Mean squared error : 1.433333333333333\n",
      "Root mean Squared Error : 1.1972189997378646\n",
      "r2score at random state 155 is 0.9753440031086382\n",
      "error:\n",
      "Mean absolute error : 0.6749999999999999\n",
      "Mean squared error : 0.7751666666666667\n",
      "Root mean Squared Error : 0.8804354982999417\n",
      "r2score at random state 156 is 0.9667223209091481\n",
      "error:\n",
      "Mean absolute error : 0.8150000000000001\n",
      "Mean squared error : 1.0461666666666671\n",
      "Root mean Squared Error : 1.0228228911530417\n",
      "r2score at random state 157 is 0.9185904967608971\n",
      "error:\n",
      "Mean absolute error : 1.0133333333333332\n",
      "Mean squared error : 1.8376666666666666\n",
      "Root mean Squared Error : 1.3556056457047774\n",
      "r2score at random state 158 is 0.9433066145503448\n",
      "error:\n",
      "Mean absolute error : 0.9600000000000004\n",
      "Mean squared error : 1.8093333333333337\n",
      "Root mean Squared Error : 1.3451146171733224\n",
      "r2score at random state 159 is 0.9244046559373034\n",
      "error:\n",
      "Mean absolute error : 0.9483333333333336\n",
      "Mean squared error : 1.5888333333333338\n",
      "Root mean Squared Error : 1.260489322974746\n",
      "r2score at random state 160 is 0.9367347222254376\n",
      "error:\n",
      "Mean absolute error : 1.0616666666666668\n",
      "Mean squared error : 1.8218333333333334\n",
      "Root mean Squared Error : 1.3497530638355053\n",
      "r2score at random state 161 is 0.9354841765094377\n",
      "error:\n",
      "Mean absolute error : 0.9266666666666669\n",
      "Mean squared error : 1.6650000000000003\n",
      "Root mean Squared Error : 1.2903487900563941\n",
      "r2score at random state 162 is 0.9480597331870455\n",
      "error:\n",
      "Mean absolute error : 0.8750000000000001\n",
      "Mean squared error : 1.3045000000000004\n",
      "Root mean Squared Error : 1.1421471008587294\n",
      "r2score at random state 163 is 0.8967748482231124\n",
      "error:\n",
      "Mean absolute error : 1.1183333333333336\n",
      "Mean squared error : 2.1588333333333334\n",
      "Root mean Squared Error : 1.4692968840004166\n",
      "r2score at random state 164 is 0.9541460286789052\n",
      "error:\n",
      "Mean absolute error : 0.8716666666666667\n",
      "Mean squared error : 1.4111666666666667\n",
      "Root mean Squared Error : 1.1879253624140982\n",
      "r2score at random state 165 is 0.93621502523816\n",
      "error:\n",
      "Mean absolute error : 0.8800000000000002\n",
      "Mean squared error : 1.2770000000000001\n",
      "Root mean Squared Error : 1.1300442469213319\n",
      "r2score at random state 166 is 0.9510880437740719\n",
      "error:\n",
      "Mean absolute error : 0.8450000000000002\n",
      "Mean squared error : 1.2061666666666666\n",
      "Root mean Squared Error : 1.0982561935480568\n",
      "r2score at random state 167 is 0.9407322560369062\n",
      "error:\n",
      "Mean absolute error : 0.8716666666666669\n",
      "Mean squared error : 1.5655000000000006\n",
      "Root mean Squared Error : 1.2511994245522975\n",
      "r2score at random state 168 is 0.9185583263421968\n",
      "error:\n",
      "Mean absolute error : 1.0383333333333336\n",
      "Mean squared error : 2.009500000000001\n",
      "Root mean Squared Error : 1.4175683405042598\n",
      "r2score at random state 169 is 0.9051959459725609\n",
      "error:\n",
      "Mean absolute error : 1.1783333333333335\n",
      "Mean squared error : 3.0084999999999997\n",
      "Root mean Squared Error : 1.7345028106059672\n",
      "r2score at random state 170 is 0.9566829218188959\n",
      "error:\n",
      "Mean absolute error : 0.9133333333333332\n",
      "Mean squared error : 1.4619999999999995\n",
      "Root mean Squared Error : 1.209131920015347\n",
      "r2score at random state 171 is 0.9523055265566117\n",
      "error:\n",
      "Mean absolute error : 0.9050000000000001\n",
      "Mean squared error : 1.3985\n",
      "Root mean Squared Error : 1.1825819210524064\n",
      "r2score at random state 172 is 0.940891539205879\n",
      "error:\n",
      "Mean absolute error : 0.8816666666666666\n",
      "Mean squared error : 1.2854999999999999\n",
      "Root mean Squared Error : 1.1337989239719712\n",
      "r2score at random state 173 is 0.9161747697876437\n",
      "error:\n",
      "Mean absolute error : 1.1399999999999995\n",
      "Mean squared error : 2.5216666666666665\n",
      "Root mean Squared Error : 1.5879756505270055\n",
      "r2score at random state 174 is 0.9389559768486992\n",
      "error:\n",
      "Mean absolute error : 0.9666666666666669\n",
      "Mean squared error : 1.4333333333333336\n",
      "Root mean Squared Error : 1.1972189997378648\n",
      "r2score at random state 175 is 0.9445114425696958\n",
      "error:\n",
      "Mean absolute error : 0.9233333333333331\n",
      "Mean squared error : 1.4856666666666667\n",
      "Root mean Squared Error : 1.2188792666489436\n",
      "r2score at random state 176 is 0.9252392641769918\n",
      "error:\n",
      "Mean absolute error : 1.1683333333333332\n",
      "Mean squared error : 2.068166666666667\n",
      "Root mean Squared Error : 1.4381121884841483\n",
      "r2score at random state 177 is 0.9502927099657661\n",
      "error:\n",
      "Mean absolute error : 0.8133333333333332\n",
      "Mean squared error : 1.1996666666666664\n",
      "Root mean Squared Error : 1.095292959288366\n",
      "r2score at random state 178 is 0.947774398018766\n",
      "error:\n",
      "Mean absolute error : 0.88\n",
      "Mean squared error : 1.324333333333333\n",
      "Root mean Squared Error : 1.1507968253924465\n",
      "r2score at random state 179 is 0.9456008627593503\n",
      "error:\n",
      "Mean absolute error : 0.8083333333333335\n",
      "Mean squared error : 1.0968333333333335\n",
      "Root mean Squared Error : 1.0472981110139241\n",
      "r2score at random state 180 is 0.9495935073786924\n",
      "error:\n",
      "Mean absolute error : 0.8950000000000001\n",
      "Mean squared error : 1.2931666666666672\n",
      "Root mean Squared Error : 1.137174861956888\n",
      "r2score at random state 181 is 0.9149282961986136\n",
      "error:\n",
      "Mean absolute error : 1.0299999999999998\n",
      "Mean squared error : 2.059333333333333\n",
      "Root mean Squared Error : 1.435037746309599\n",
      "r2score at random state 182 is 0.9700021822235997\n",
      "error:\n",
      "Mean absolute error : 0.7583333333333334\n",
      "Mean squared error : 0.9668333333333331\n",
      "Root mean Squared Error : 0.9832768345350831\n",
      "r2score at random state 183 is 0.9542814222286615\n",
      "error:\n",
      "Mean absolute error : 0.896666666666667\n",
      "Mean squared error : 1.3323333333333336\n",
      "Root mean Squared Error : 1.1542674444570173\n",
      "r2score at random state 184 is 0.9123568625254147\n",
      "error:\n",
      "Mean absolute error : 0.9900000000000001\n",
      "Mean squared error : 1.8469999999999993\n",
      "Root mean Squared Error : 1.3590437814875573\n",
      "r2score at random state 185 is 0.9519210482875243\n",
      "error:\n",
      "Mean absolute error : 0.8083333333333333\n",
      "Mean squared error : 1.3324999999999998\n",
      "Root mean Squared Error : 1.1543396380615194\n",
      "r2score at random state 186 is 0.9398795792470105\n",
      "error:\n",
      "Mean absolute error : 0.8866666666666669\n",
      "Mean squared error : 1.3366666666666671\n",
      "Root mean Squared Error : 1.1561430130683086\n",
      "r2score at random state 187 is 0.9577475667661072\n",
      "error:\n",
      "Mean absolute error : 0.975\n",
      "Mean squared error : 1.2718333333333336\n",
      "Root mean Squared Error : 1.1277558837502617\n",
      "r2score at random state 188 is 0.921785036049484\n",
      "error:\n",
      "Mean absolute error : 1.0766666666666667\n",
      "Mean squared error : 1.9676666666666667\n",
      "Root mean Squared Error : 1.4027354229029316\n",
      "r2score at random state 189 is 0.951762395661681\n",
      "error:\n",
      "Mean absolute error : 0.9616666666666666\n",
      "Mean squared error : 1.4425000000000001\n",
      "Root mean Squared Error : 1.2010412149464313\n",
      "r2score at random state 190 is 0.9492372599810658\n",
      "error:\n",
      "Mean absolute error : 0.7666666666666667\n",
      "Mean squared error : 1.1289999999999998\n",
      "Root mean Squared Error : 1.0625441167311593\n",
      "r2score at random state 191 is 0.901043993023819\n",
      "error:\n",
      "Mean absolute error : 1.0283333333333335\n",
      "Mean squared error : 1.8068333333333335\n",
      "Root mean Squared Error : 1.3441850071077766\n",
      "r2score at random state 192 is 0.917259982673463\n",
      "error:\n",
      "Mean absolute error : 1.1116666666666666\n",
      "Mean squared error : 2.3168333333333337\n",
      "Root mean Squared Error : 1.5221147569527516\n",
      "r2score at random state 193 is 0.9715397578257801\n",
      "error:\n",
      "Mean absolute error : 0.6683333333333331\n",
      "Mean squared error : 0.6785\n",
      "Root mean Squared Error : 0.8237111144084436\n",
      "r2score at random state 194 is 0.9508942344526122\n",
      "error:\n",
      "Mean absolute error : 0.9383333333333336\n",
      "Mean squared error : 1.3904999999999996\n",
      "Root mean Squared Error : 1.1791946404220126\n",
      "r2score at random state 195 is 0.9488349846804165\n",
      "error:\n",
      "Mean absolute error : 0.9349999999999999\n",
      "Mean squared error : 1.2824999999999995\n",
      "Root mean Squared Error : 1.1324751652906122\n",
      "r2score at random state 196 is 0.9153917050691245\n",
      "error:\n",
      "Mean absolute error : 0.985\n",
      "Mean squared error : 1.7595000000000003\n",
      "Root mean Squared Error : 1.3264614581660488\n",
      "r2score at random state 197 is 0.9225524649786763\n",
      "error:\n",
      "Mean absolute error : 0.9949999999999998\n",
      "Mean squared error : 1.9704999999999997\n",
      "Root mean Squared Error : 1.403744991086344\n",
      "r2score at random state 198 is 0.9562677888312471\n",
      "error:\n",
      "Mean absolute error : 0.7383333333333335\n",
      "Mean squared error : 0.8961666666666671\n",
      "Root mean Squared Error : 0.9466607981038758\n",
      "r2score at random state 199 is 0.9631532976250444\n",
      "error:\n",
      "Mean absolute error : 0.811666666666667\n",
      "Mean squared error : 1.3288333333333335\n",
      "Root mean Squared Error : 1.1527503343453576\n"
     ]
    }
   ],
   "source": [
    "for i in range(200):\n",
    "    x_train, x_test, y_train, y_test=train_test_split(xtrain,ytrain,test_size=0.30, random_state=i)\n",
    "    from sklearn.tree import DecisionTreeRegressor\n",
    "    DTR=DecisionTreeRegressor()\n",
    "    DTR.fit(x_train,y_train)\n",
    "    pred=DTR.predict(x_test)\n",
    "    \n",
    "    print(\"r2score at random state\",i,\"is\",r2_score(y_test,pred))\n",
    "    print('error:')\n",
    "    print('Mean absolute error :', mean_absolute_error(y_test,pred))\n",
    "    print('Mean squared error :', mean_squared_error(y_test,pred))\n",
    "    print('Root mean Squared Error :', np.sqrt(mean_squared_error(y_test,pred)))"
   ]
  },
  {
   "cell_type": "code",
   "execution_count": 36,
   "metadata": {},
   "outputs": [
    {
     "name": "stdout",
     "output_type": "stream",
     "text": [
      "Best accuracy is  0.9755189435294972 on Random_state 155\n"
     ]
    }
   ],
   "source": [
    "from sklearn.tree import DecisionTreeRegressor\n",
    "maxr2=0\n",
    "maxRS=0\n",
    "for i in range(1,200):\n",
    "    x_train, x_test, y_train, y_test=train_test_split(xtrain,ytrain,test_size=0.30, random_state=i)\n",
    "    mod=DecisionTreeRegressor()\n",
    "    mod.fit(x_train,y_train)\n",
    "    pred=mod.predict(x_test)\n",
    "    r2=r2_score(y_test,pred)\n",
    "    if r2>maxr2:\n",
    "        maxr2=r2\n",
    "        maxRS=i\n",
    "print(\"Best accuracy is \", maxr2, \"on Random_state\", maxRS)"
   ]
  },
  {
   "cell_type": "code",
   "execution_count": 37,
   "metadata": {},
   "outputs": [],
   "source": [
    "x_train, x_test, y_train, y_test=train_test_split(x,y,test_size=0.30, random_state=55)\n"
   ]
  },
  {
   "cell_type": "markdown",
   "metadata": {},
   "source": [
    "#### Now checking for r2_score using 5 algorithms"
   ]
  },
  {
   "cell_type": "code",
   "execution_count": 38,
   "metadata": {},
   "outputs": [
    {
     "name": "stdout",
     "output_type": "stream",
     "text": [
      "0.8811593647370797\n"
     ]
    }
   ],
   "source": [
    "from sklearn.svm import SVR\n",
    "SV=SVR(kernel=\"linear\")\n",
    "SV.fit(x_train,y_train)\n",
    "SV.score(x_train,y_train)\n",
    "pred_y=SV.predict(x_test)\n",
    "print(SV.score(x_train,y_train))"
   ]
  },
  {
   "cell_type": "code",
   "execution_count": 39,
   "metadata": {},
   "outputs": [
    {
     "name": "stdout",
     "output_type": "stream",
     "text": [
      "1.0\n"
     ]
    }
   ],
   "source": [
    "from sklearn.ensemble import RandomForestRegressor\n",
    "RFReg = RandomForestRegressor(max_depth=2, random_state=0)\n",
    "RFReg.fit(x_train, y_train)\n",
    "pred=(RFReg.predict(x_test))\n",
    "print(RFReg.score(x_test,pred))"
   ]
  },
  {
   "cell_type": "code",
   "execution_count": 40,
   "metadata": {},
   "outputs": [
    {
     "name": "stdout",
     "output_type": "stream",
     "text": [
      "0.9725675436277152\n"
     ]
    }
   ],
   "source": [
    "from sklearn.tree import DecisionTreeRegressor\n",
    "DTR=DecisionTreeRegressor()\n",
    "DTR.fit(x_train,y_train)\n",
    "pred=DTR.predict(x_test)\n",
    "print(r2_score(y_test,pred))"
   ]
  },
  {
   "cell_type": "code",
   "execution_count": 41,
   "metadata": {},
   "outputs": [
    {
     "name": "stdout",
     "output_type": "stream",
     "text": [
      "1.0\n"
     ]
    },
    {
     "data": {
      "text/plain": [
       "array([ 0.04649797,  0.18649884, -0.00780111])"
      ]
     },
     "execution_count": 41,
     "metadata": {},
     "output_type": "execute_result"
    }
   ],
   "source": [
    "from sklearn.linear_model import ElasticNet\n",
    "enr=ElasticNet(alpha=0.01)\n",
    "#enr=ElasticNet()\n",
    "enr.fit(x_train,y_train)\n",
    "Enrpred=enr.predict(x_test)\n",
    "print(enr.score(x_test,Enrpred))\n",
    "enr.coef_"
   ]
  },
  {
   "cell_type": "code",
   "execution_count": 42,
   "metadata": {},
   "outputs": [
    {
     "data": {
      "text/plain": [
       "0.88947472491047"
      ]
     },
     "execution_count": 42,
     "metadata": {},
     "output_type": "execute_result"
    }
   ],
   "source": [
    "import numpy as np\n",
    "from sklearn.linear_model import LinearRegression\n",
    "REG = LinearRegression()\n",
    "REG.fit(x_train, y_train)\n",
    "REG.score(x_train, y_train)"
   ]
  },
  {
   "cell_type": "markdown",
   "metadata": {},
   "source": [
    "### Now checking cross_validation_score"
   ]
  },
  {
   "cell_type": "code",
   "execution_count": 43,
   "metadata": {},
   "outputs": [],
   "source": [
    "from sklearn.model_selection import cross_val_score"
   ]
  },
  {
   "cell_type": "code",
   "execution_count": 44,
   "metadata": {},
   "outputs": [
    {
     "name": "stdout",
     "output_type": "stream",
     "text": [
      "0.888479495369505\n"
     ]
    }
   ],
   "source": [
    "print(cross_val_score(SV,xtrain,ytrain,cv=5).mean())"
   ]
  },
  {
   "cell_type": "code",
   "execution_count": 45,
   "metadata": {},
   "outputs": [
    {
     "name": "stdout",
     "output_type": "stream",
     "text": [
      "0.8297024752569003\n"
     ]
    }
   ],
   "source": [
    "print(cross_val_score(RFReg,xtrain,ytrain,cv=5).mean())"
   ]
  },
  {
   "cell_type": "code",
   "execution_count": 46,
   "metadata": {},
   "outputs": [
    {
     "name": "stdout",
     "output_type": "stream",
     "text": [
      "0.9476950105020426\n"
     ]
    }
   ],
   "source": [
    "print(cross_val_score(DTR,xtrain,ytrain,cv=5).mean())"
   ]
  },
  {
   "cell_type": "code",
   "execution_count": 47,
   "metadata": {},
   "outputs": [
    {
     "name": "stdout",
     "output_type": "stream",
     "text": [
      "0.8959707112986228\n"
     ]
    }
   ],
   "source": [
    "print(cross_val_score(enr,xtrain,ytrain,cv=5).mean())"
   ]
  },
  {
   "cell_type": "code",
   "execution_count": 48,
   "metadata": {},
   "outputs": [
    {
     "name": "stdout",
     "output_type": "stream",
     "text": [
      "0.8958270968555071\n"
     ]
    }
   ],
   "source": [
    "print(cross_val_score(REG,xtrain,ytrain,cv=5).mean())"
   ]
  },
  {
   "cell_type": "markdown",
   "metadata": {},
   "source": [
    "The model showing least difference between two models is LinearRegression.\n",
    "\n",
    "\n",
    "We have chosen LinearRegression as our best model."
   ]
  },
  {
   "cell_type": "markdown",
   "metadata": {},
   "source": [
    "# Hyper parameter tuning"
   ]
  },
  {
   "cell_type": "code",
   "execution_count": 49,
   "metadata": {},
   "outputs": [],
   "source": [
    "from sklearn.model_selection import GridSearchCV"
   ]
  },
  {
   "cell_type": "code",
   "execution_count": 50,
   "metadata": {},
   "outputs": [],
   "source": [
    "parameter ={ 'fit_intercept' : np.arange(1,5),\n",
    "           'copy_X' : np.arange(1,5),\n",
    "           'n_jobs' : np.arange(1,8),\n",
    "           'positive' : np.arange(1,6)}"
   ]
  },
  {
   "cell_type": "code",
   "execution_count": 51,
   "metadata": {},
   "outputs": [],
   "source": [
    "GCV=GridSearchCV(LinearRegression(),parameter,cv=5)"
   ]
  },
  {
   "cell_type": "code",
   "execution_count": 52,
   "metadata": {},
   "outputs": [
    {
     "data": {
      "text/plain": [
       "GridSearchCV(cv=5, estimator=LinearRegression(),\n",
       "             param_grid={'copy_X': array([1, 2, 3, 4]),\n",
       "                         'fit_intercept': array([1, 2, 3, 4]),\n",
       "                         'n_jobs': array([1, 2, 3, 4, 5, 6, 7]),\n",
       "                         'positive': array([1, 2, 3, 4, 5])})"
      ]
     },
     "execution_count": 52,
     "metadata": {},
     "output_type": "execute_result"
    }
   ],
   "source": [
    "GCV.fit(x_train,y_train)"
   ]
  },
  {
   "cell_type": "code",
   "execution_count": 53,
   "metadata": {},
   "outputs": [
    {
     "data": {
      "text/plain": [
       "{'copy_X': 1, 'fit_intercept': 1, 'n_jobs': 1, 'positive': 1}"
      ]
     },
     "execution_count": 53,
     "metadata": {},
     "output_type": "execute_result"
    }
   ],
   "source": [
    "GCV.best_params_"
   ]
  },
  {
   "cell_type": "code",
   "execution_count": 54,
   "metadata": {},
   "outputs": [
    {
     "name": "stdout",
     "output_type": "stream",
     "text": [
      "90.72806162929149\n"
     ]
    }
   ],
   "source": [
    "Final_model= LinearRegression(copy_X = 1, fit_intercept =1, n_jobs=1, positive=1)\n",
    "Final_model.fit(x_train, y_train)\n",
    "pred = Final_model.predict(x_test)\n",
    "r2score=r2_score(y_test,pred)\n",
    "print(r2score*100)"
   ]
  },
  {
   "cell_type": "markdown",
   "metadata": {},
   "source": [
    "# Saving the Model"
   ]
  },
  {
   "cell_type": "code",
   "execution_count": 55,
   "metadata": {},
   "outputs": [
    {
     "data": {
      "text/plain": [
       "['Final_model6.pkl']"
      ]
     },
     "execution_count": 55,
     "metadata": {},
     "output_type": "execute_result"
    }
   ],
   "source": [
    "#from sklearn.externals import joblib\n",
    "import joblib\n",
    "# save the model as a object file\n",
    "joblib.dump(Final_model,\"Final_model6.pkl\")"
   ]
  },
  {
   "cell_type": "markdown",
   "metadata": {},
   "source": [
    "# Conclusion"
   ]
  },
  {
   "cell_type": "code",
   "execution_count": 56,
   "metadata": {},
   "outputs": [
    {
     "data": {
      "text/html": [
       "<div>\n",
       "<style scoped>\n",
       "    .dataframe tbody tr th:only-of-type {\n",
       "        vertical-align: middle;\n",
       "    }\n",
       "\n",
       "    .dataframe tbody tr th {\n",
       "        vertical-align: top;\n",
       "    }\n",
       "\n",
       "    .dataframe thead th {\n",
       "        text-align: right;\n",
       "    }\n",
       "</style>\n",
       "<table border=\"1\" class=\"dataframe\">\n",
       "  <thead>\n",
       "    <tr style=\"text-align: right;\">\n",
       "      <th></th>\n",
       "      <th>original</th>\n",
       "      <th>predicted</th>\n",
       "    </tr>\n",
       "  </thead>\n",
       "  <tbody>\n",
       "    <tr>\n",
       "      <th>0</th>\n",
       "      <td>11.8</td>\n",
       "      <td>11.422140</td>\n",
       "    </tr>\n",
       "    <tr>\n",
       "      <th>1</th>\n",
       "      <td>15.9</td>\n",
       "      <td>15.583837</td>\n",
       "    </tr>\n",
       "    <tr>\n",
       "      <th>2</th>\n",
       "      <td>20.8</td>\n",
       "      <td>21.009587</td>\n",
       "    </tr>\n",
       "    <tr>\n",
       "      <th>3</th>\n",
       "      <td>12.7</td>\n",
       "      <td>15.855758</td>\n",
       "    </tr>\n",
       "    <tr>\n",
       "      <th>4</th>\n",
       "      <td>6.6</td>\n",
       "      <td>10.461290</td>\n",
       "    </tr>\n",
       "    <tr>\n",
       "      <th>5</th>\n",
       "      <td>10.8</td>\n",
       "      <td>12.339620</td>\n",
       "    </tr>\n",
       "    <tr>\n",
       "      <th>6</th>\n",
       "      <td>13.2</td>\n",
       "      <td>15.492509</td>\n",
       "    </tr>\n",
       "    <tr>\n",
       "      <th>7</th>\n",
       "      <td>15.5</td>\n",
       "      <td>16.700036</td>\n",
       "    </tr>\n",
       "    <tr>\n",
       "      <th>8</th>\n",
       "      <td>15.9</td>\n",
       "      <td>18.837109</td>\n",
       "    </tr>\n",
       "    <tr>\n",
       "      <th>9</th>\n",
       "      <td>20.2</td>\n",
       "      <td>20.479208</td>\n",
       "    </tr>\n",
       "    <tr>\n",
       "      <th>10</th>\n",
       "      <td>26.2</td>\n",
       "      <td>24.237041</td>\n",
       "    </tr>\n",
       "    <tr>\n",
       "      <th>11</th>\n",
       "      <td>12.2</td>\n",
       "      <td>14.139262</td>\n",
       "    </tr>\n",
       "    <tr>\n",
       "      <th>12</th>\n",
       "      <td>10.6</td>\n",
       "      <td>9.198132</td>\n",
       "    </tr>\n",
       "    <tr>\n",
       "      <th>13</th>\n",
       "      <td>8.4</td>\n",
       "      <td>7.429773</td>\n",
       "    </tr>\n",
       "    <tr>\n",
       "      <th>14</th>\n",
       "      <td>16.1</td>\n",
       "      <td>18.590380</td>\n",
       "    </tr>\n",
       "    <tr>\n",
       "      <th>15</th>\n",
       "      <td>3.2</td>\n",
       "      <td>5.293007</td>\n",
       "    </tr>\n",
       "    <tr>\n",
       "      <th>16</th>\n",
       "      <td>7.0</td>\n",
       "      <td>7.825682</td>\n",
       "    </tr>\n",
       "    <tr>\n",
       "      <th>17</th>\n",
       "      <td>23.8</td>\n",
       "      <td>21.869631</td>\n",
       "    </tr>\n",
       "    <tr>\n",
       "      <th>18</th>\n",
       "      <td>11.6</td>\n",
       "      <td>13.829013</td>\n",
       "    </tr>\n",
       "    <tr>\n",
       "      <th>19</th>\n",
       "      <td>15.9</td>\n",
       "      <td>17.212757</td>\n",
       "    </tr>\n",
       "    <tr>\n",
       "      <th>20</th>\n",
       "      <td>14.7</td>\n",
       "      <td>14.874211</td>\n",
       "    </tr>\n",
       "    <tr>\n",
       "      <th>21</th>\n",
       "      <td>22.4</td>\n",
       "      <td>20.805011</td>\n",
       "    </tr>\n",
       "    <tr>\n",
       "      <th>22</th>\n",
       "      <td>25.4</td>\n",
       "      <td>23.268134</td>\n",
       "    </tr>\n",
       "    <tr>\n",
       "      <th>23</th>\n",
       "      <td>12.0</td>\n",
       "      <td>11.563888</td>\n",
       "    </tr>\n",
       "    <tr>\n",
       "      <th>24</th>\n",
       "      <td>11.4</td>\n",
       "      <td>10.166121</td>\n",
       "    </tr>\n",
       "    <tr>\n",
       "      <th>25</th>\n",
       "      <td>9.6</td>\n",
       "      <td>9.720877</td>\n",
       "    </tr>\n",
       "    <tr>\n",
       "      <th>26</th>\n",
       "      <td>12.2</td>\n",
       "      <td>12.076383</td>\n",
       "    </tr>\n",
       "    <tr>\n",
       "      <th>27</th>\n",
       "      <td>20.7</td>\n",
       "      <td>19.620789</td>\n",
       "    </tr>\n",
       "    <tr>\n",
       "      <th>28</th>\n",
       "      <td>18.9</td>\n",
       "      <td>19.521017</td>\n",
       "    </tr>\n",
       "    <tr>\n",
       "      <th>29</th>\n",
       "      <td>6.9</td>\n",
       "      <td>4.552288</td>\n",
       "    </tr>\n",
       "    <tr>\n",
       "      <th>30</th>\n",
       "      <td>12.6</td>\n",
       "      <td>12.518451</td>\n",
       "    </tr>\n",
       "    <tr>\n",
       "      <th>31</th>\n",
       "      <td>12.9</td>\n",
       "      <td>12.477559</td>\n",
       "    </tr>\n",
       "    <tr>\n",
       "      <th>32</th>\n",
       "      <td>9.3</td>\n",
       "      <td>7.893362</td>\n",
       "    </tr>\n",
       "    <tr>\n",
       "      <th>33</th>\n",
       "      <td>10.8</td>\n",
       "      <td>11.761071</td>\n",
       "    </tr>\n",
       "    <tr>\n",
       "      <th>34</th>\n",
       "      <td>12.8</td>\n",
       "      <td>12.921047</td>\n",
       "    </tr>\n",
       "    <tr>\n",
       "      <th>35</th>\n",
       "      <td>8.0</td>\n",
       "      <td>10.693565</td>\n",
       "    </tr>\n",
       "    <tr>\n",
       "      <th>36</th>\n",
       "      <td>25.5</td>\n",
       "      <td>23.867825</td>\n",
       "    </tr>\n",
       "    <tr>\n",
       "      <th>37</th>\n",
       "      <td>12.8</td>\n",
       "      <td>17.262456</td>\n",
       "    </tr>\n",
       "    <tr>\n",
       "      <th>38</th>\n",
       "      <td>22.3</td>\n",
       "      <td>21.105818</td>\n",
       "    </tr>\n",
       "    <tr>\n",
       "      <th>39</th>\n",
       "      <td>12.6</td>\n",
       "      <td>12.880563</td>\n",
       "    </tr>\n",
       "    <tr>\n",
       "      <th>40</th>\n",
       "      <td>20.7</td>\n",
       "      <td>20.345196</td>\n",
       "    </tr>\n",
       "    <tr>\n",
       "      <th>41</th>\n",
       "      <td>10.5</td>\n",
       "      <td>10.745239</td>\n",
       "    </tr>\n",
       "    <tr>\n",
       "      <th>42</th>\n",
       "      <td>9.4</td>\n",
       "      <td>6.682308</td>\n",
       "    </tr>\n",
       "    <tr>\n",
       "      <th>43</th>\n",
       "      <td>14.8</td>\n",
       "      <td>17.871684</td>\n",
       "    </tr>\n",
       "    <tr>\n",
       "      <th>44</th>\n",
       "      <td>17.4</td>\n",
       "      <td>17.366256</td>\n",
       "    </tr>\n",
       "    <tr>\n",
       "      <th>45</th>\n",
       "      <td>19.2</td>\n",
       "      <td>18.474909</td>\n",
       "    </tr>\n",
       "    <tr>\n",
       "      <th>46</th>\n",
       "      <td>15.5</td>\n",
       "      <td>15.429972</td>\n",
       "    </tr>\n",
       "    <tr>\n",
       "      <th>47</th>\n",
       "      <td>17.1</td>\n",
       "      <td>17.325641</td>\n",
       "    </tr>\n",
       "    <tr>\n",
       "      <th>48</th>\n",
       "      <td>10.5</td>\n",
       "      <td>9.193980</td>\n",
       "    </tr>\n",
       "    <tr>\n",
       "      <th>49</th>\n",
       "      <td>8.1</td>\n",
       "      <td>5.835859</td>\n",
       "    </tr>\n",
       "    <tr>\n",
       "      <th>50</th>\n",
       "      <td>10.6</td>\n",
       "      <td>12.756313</td>\n",
       "    </tr>\n",
       "    <tr>\n",
       "      <th>51</th>\n",
       "      <td>18.9</td>\n",
       "      <td>19.063519</td>\n",
       "    </tr>\n",
       "    <tr>\n",
       "      <th>52</th>\n",
       "      <td>10.1</td>\n",
       "      <td>9.781716</td>\n",
       "    </tr>\n",
       "    <tr>\n",
       "      <th>53</th>\n",
       "      <td>4.8</td>\n",
       "      <td>3.763945</td>\n",
       "    </tr>\n",
       "    <tr>\n",
       "      <th>54</th>\n",
       "      <td>24.4</td>\n",
       "      <td>23.326197</td>\n",
       "    </tr>\n",
       "    <tr>\n",
       "      <th>55</th>\n",
       "      <td>9.5</td>\n",
       "      <td>11.308228</td>\n",
       "    </tr>\n",
       "    <tr>\n",
       "      <th>56</th>\n",
       "      <td>10.4</td>\n",
       "      <td>8.891817</td>\n",
       "    </tr>\n",
       "    <tr>\n",
       "      <th>57</th>\n",
       "      <td>15.2</td>\n",
       "      <td>15.340546</td>\n",
       "    </tr>\n",
       "    <tr>\n",
       "      <th>58</th>\n",
       "      <td>19.6</td>\n",
       "      <td>19.342223</td>\n",
       "    </tr>\n",
       "    <tr>\n",
       "      <th>59</th>\n",
       "      <td>11.7</td>\n",
       "      <td>12.329982</td>\n",
       "    </tr>\n",
       "  </tbody>\n",
       "</table>\n",
       "</div>"
      ],
      "text/plain": [
       "    original  predicted\n",
       "0       11.8  11.422140\n",
       "1       15.9  15.583837\n",
       "2       20.8  21.009587\n",
       "3       12.7  15.855758\n",
       "4        6.6  10.461290\n",
       "5       10.8  12.339620\n",
       "6       13.2  15.492509\n",
       "7       15.5  16.700036\n",
       "8       15.9  18.837109\n",
       "9       20.2  20.479208\n",
       "10      26.2  24.237041\n",
       "11      12.2  14.139262\n",
       "12      10.6   9.198132\n",
       "13       8.4   7.429773\n",
       "14      16.1  18.590380\n",
       "15       3.2   5.293007\n",
       "16       7.0   7.825682\n",
       "17      23.8  21.869631\n",
       "18      11.6  13.829013\n",
       "19      15.9  17.212757\n",
       "20      14.7  14.874211\n",
       "21      22.4  20.805011\n",
       "22      25.4  23.268134\n",
       "23      12.0  11.563888\n",
       "24      11.4  10.166121\n",
       "25       9.6   9.720877\n",
       "26      12.2  12.076383\n",
       "27      20.7  19.620789\n",
       "28      18.9  19.521017\n",
       "29       6.9   4.552288\n",
       "30      12.6  12.518451\n",
       "31      12.9  12.477559\n",
       "32       9.3   7.893362\n",
       "33      10.8  11.761071\n",
       "34      12.8  12.921047\n",
       "35       8.0  10.693565\n",
       "36      25.5  23.867825\n",
       "37      12.8  17.262456\n",
       "38      22.3  21.105818\n",
       "39      12.6  12.880563\n",
       "40      20.7  20.345196\n",
       "41      10.5  10.745239\n",
       "42       9.4   6.682308\n",
       "43      14.8  17.871684\n",
       "44      17.4  17.366256\n",
       "45      19.2  18.474909\n",
       "46      15.5  15.429972\n",
       "47      17.1  17.325641\n",
       "48      10.5   9.193980\n",
       "49       8.1   5.835859\n",
       "50      10.6  12.756313\n",
       "51      18.9  19.063519\n",
       "52      10.1   9.781716\n",
       "53       4.8   3.763945\n",
       "54      24.4  23.326197\n",
       "55       9.5  11.308228\n",
       "56      10.4   8.891817\n",
       "57      15.2  15.340546\n",
       "58      19.6  19.342223\n",
       "59      11.7  12.329982"
      ]
     },
     "execution_count": 56,
     "metadata": {},
     "output_type": "execute_result"
    }
   ],
   "source": [
    "import numpy as np\n",
    "a=np.array(y_test)\n",
    "predicted=np.array(pred)\n",
    "df_com=pd.DataFrame({\"original\":a,\"predicted\":predicted},index=range(len(a)))\n",
    "df_com"
   ]
  },
  {
   "cell_type": "code",
   "execution_count": 57,
   "metadata": {},
   "outputs": [
    {
     "name": "stdout",
     "output_type": "stream",
     "text": [
      "0.9072806162929149\n"
     ]
    }
   ],
   "source": [
    "loaded_model = joblib.load(open('Final_model6.pkl','rb'))\n",
    "result=loaded_model.score(x_test,y_test)\n",
    "print(result)"
   ]
  },
  {
   "cell_type": "code",
   "execution_count": null,
   "metadata": {},
   "outputs": [],
   "source": []
  }
 ],
 "metadata": {
  "kernelspec": {
   "display_name": "Python 3",
   "language": "python",
   "name": "python3"
  },
  "language_info": {
   "codemirror_mode": {
    "name": "ipython",
    "version": 3
   },
   "file_extension": ".py",
   "mimetype": "text/x-python",
   "name": "python",
   "nbconvert_exporter": "python",
   "pygments_lexer": "ipython3",
   "version": "3.8.5"
  }
 },
 "nbformat": 4,
 "nbformat_minor": 4
}
